{
 "cells": [
  {
   "cell_type": "markdown",
   "metadata": {},
   "source": [
    "# Medical text categorization\n",
    "Simo Hyttinen<br>\n",
    "Last edited: 11.03.2018<br>\n",
    "Cognitive Systems for Health Technology Applications<br>\n",
    "<a href=\"https://www.metropolia.fi/en\">Helsinki Metropolia University of Applied Sciences</a>\n"
   ]
  },
  {
   "cell_type": "markdown",
   "metadata": {},
   "source": [
    "## 1. Objectives"
   ]
  },
  {
   "cell_type": "markdown",
   "metadata": {},
   "source": [
    "The objective of this assignment is to use a recurrent and convolutional neural network to classify medical abstracts into 23 different categories. "
   ]
  },
  {
   "cell_type": "markdown",
   "metadata": {},
   "source": [
    "## 2. Required libraries"
   ]
  },
  {
   "cell_type": "code",
   "execution_count": 61,
   "metadata": {},
   "outputs": [
    {
     "name": "stdout",
     "output_type": "stream",
     "text": [
      "Populating the interactive namespace from numpy and matplotlib\n"
     ]
    },
    {
     "name": "stderr",
     "output_type": "stream",
     "text": [
      "C:\\Users\\simoh\\Anaconda3\\lib\\site-packages\\IPython\\core\\magics\\pylab.py:160: UserWarning: pylab import has clobbered these variables: ['f', 'indices']\n",
      "`%matplotlib` prevents importing * from pylab and numpy\n",
      "  \"\\n`%matplotlib` prevents importing * from pylab and numpy\"\n"
     ]
    }
   ],
   "source": [
    "%pylab inline"
   ]
  },
  {
   "cell_type": "code",
   "execution_count": 62,
   "metadata": {},
   "outputs": [],
   "source": [
    "import keras"
   ]
  },
  {
   "cell_type": "code",
   "execution_count": 87,
   "metadata": {},
   "outputs": [],
   "source": [
    "import os\n",
    "from keras.preprocessing.text import Tokenizer\n",
    "from keras.preprocessing.sequence import pad_sequences\n",
    "from keras.optimizers import RMSprop"
   ]
  },
  {
   "cell_type": "markdown",
   "metadata": {},
   "source": [
    "## 3. Data description and preprocessing"
   ]
  },
  {
   "cell_type": "markdown",
   "metadata": {},
   "source": [
    "I import the data using a function that looks inside a given folder for the specified folders that are listed in the labels_list variable, and saves the text in the files within a given folder into the texts variable, and the corresponding label to a labels variable."
   ]
  },
  {
   "cell_type": "code",
   "execution_count": 64,
   "metadata": {},
   "outputs": [],
   "source": [
    "train_data_dir = 'cardiovascular/training'\n",
    "test_data_dir = 'cardiovascular/test'\n",
    "\n",
    "labels_list = ['C01', 'C02', 'C03', 'C04', 'C05', 'C06', 'C07', 'C08', 'C09', 'C10', 'C11', 'C12', 'C13', 'C14', 'C15',\n",
    "              'C16', 'C17', 'C18', 'C19', 'C20', 'C21', 'C22', 'C23']\n",
    "\n",
    "\n",
    "def import_data(data_dir):\n",
    "    labels = []\n",
    "    texts = []\n",
    "    for label_type in labels_list:\n",
    "        dir_name = os.path.join(data_dir, label_type)\n",
    "        for fname in os.listdir(dir_name):\n",
    "            f = open(os.path.join(dir_name, fname))\n",
    "            texts.append(f.read())\n",
    "            f.close()\n",
    "            if label_type == 'C01':\n",
    "                labels.append(0)\n",
    "            elif label_type == 'C02':\n",
    "                labels.append(1)\n",
    "            elif label_type == 'C03':\n",
    "                labels.append(2)\n",
    "            elif label_type == 'C04':\n",
    "                labels.append(3)\n",
    "            elif label_type == 'C05':\n",
    "                labels.append(4)\n",
    "            elif label_type == 'C06':\n",
    "                labels.append(5)\n",
    "            elif label_type == 'C07':\n",
    "                labels.append(6)\n",
    "            elif label_type == 'C08':\n",
    "                labels.append(7)\n",
    "            elif label_type == 'C09':\n",
    "                labels.append(8)\n",
    "            elif label_type == 'C10':\n",
    "                labels.append(9)\n",
    "            elif label_type == 'C11':\n",
    "                labels.append(10)\n",
    "            elif label_type == 'C12':\n",
    "                labels.append(11)\n",
    "            elif label_type == 'C13':\n",
    "                labels.append(12)\n",
    "            elif label_type == 'C14':\n",
    "                labels.append(13)\n",
    "            elif label_type == 'C15':\n",
    "                labels.append(14)\n",
    "            elif label_type == 'C16':\n",
    "                labels.append(15)\n",
    "            elif label_type == 'C17':\n",
    "                labels.append(16)\n",
    "            elif label_type == 'C18':\n",
    "                labels.append(17)\n",
    "            elif label_type == 'C19':\n",
    "                labels.append(18)\n",
    "            elif label_type == 'C20':\n",
    "                labels.append(18)\n",
    "            elif label_type == 'C21':\n",
    "                labels.append(20)\n",
    "            elif label_type == 'C22':\n",
    "                labels.append(21)\n",
    "            elif label_type == 'C23':\n",
    "                labels.append(22)\n",
    "            else:\n",
    "                labels.append(23) # if there are 23s, there is either a folder that's not supposed\n",
    "                                  # to be there or a misspelled folder name in labels_list.\n",
    "    return texts, labels\n",
    "\n",
    "train_texts, train_labels = import_data(train_data_dir)\n",
    "test_texts, test_labels = import_data(test_data_dir)"
   ]
  },
  {
   "cell_type": "code",
   "execution_count": 65,
   "metadata": {
    "scrolled": true
   },
   "outputs": [
    {
     "name": "stdout",
     "output_type": "stream",
     "text": [
      "22\n",
      "22\n"
     ]
    }
   ],
   "source": [
    "print(amax(test_labels))\n",
    "print(amax(train_labels))"
   ]
  },
  {
   "cell_type": "markdown",
   "metadata": {},
   "source": [
    "The maximum value in the labels is 22, which means there were no hickups in the data importing."
   ]
  },
  {
   "cell_type": "code",
   "execution_count": 68,
   "metadata": {},
   "outputs": [
    {
     "name": "stdout",
     "output_type": "stream",
     "text": [
      "Found 30857 unique tokens.\n",
      "Shape of data tensor: (10433, 100)\n",
      "Shape of label tensor: (10433,)\n"
     ]
    }
   ],
   "source": [
    "maxlen = 100\n",
    "training_samples = len(train_texts)\n",
    "validation_samples = len(test_texts)\n",
    "max_words = 10000\n",
    "\n",
    "tokenizer = Tokenizer(num_words=max_words)\n",
    "tokenizer.fit_on_texts(train_texts)\n",
    "sequences = tokenizer.texts_to_sequences(train_texts)\n",
    "\n",
    "word_index = tokenizer.word_index\n",
    "print('Found %s unique tokens.' % len(word_index))\n",
    "\n",
    "trdata = pad_sequences(sequences, maxlen=maxlen)\n",
    "trlabels = np.asarray(train_labels)\n",
    "\n",
    "print('Shape of data tensor:', trdata.shape)\n",
    "print('Shape of label tensor:', trlabels.shape)\n",
    "\n",
    "indices = np.arange(trdata.shape[0])\n",
    "random.shuffle(indices)\n",
    "trdata = trdata[indices]\n",
    "trlabels = trlabels[indices]"
   ]
  },
  {
   "cell_type": "code",
   "execution_count": 69,
   "metadata": {},
   "outputs": [
    {
     "name": "stdout",
     "output_type": "stream",
     "text": [
      "Shape of data tensor: (12733, 100)\n",
      "Shape of label tensor: (12733,)\n"
     ]
    }
   ],
   "source": [
    "tokenizer.fit_on_texts(test_texts)\n",
    "test_sequences = tokenizer.texts_to_sequences(test_texts)\n",
    "\n",
    "tedata = pad_sequences(test_sequences, maxlen=maxlen)\n",
    "telabels = np.asarray(test_labels)\n",
    "\n",
    "print('Shape of data tensor:', tedata.shape)\n",
    "print('Shape of label tensor:', telabels.shape)"
   ]
  },
  {
   "cell_type": "code",
   "execution_count": 70,
   "metadata": {},
   "outputs": [],
   "source": [
    "trlabels = keras.utils.np_utils.to_categorical(trlabels, 23)\n",
    "telabels = keras.utils.np_utils.to_categorical(telabels, 23)"
   ]
  },
  {
   "cell_type": "markdown",
   "metadata": {},
   "source": [
    "## 4. Modeling and compilation"
   ]
  },
  {
   "cell_type": "markdown",
   "metadata": {},
   "source": [
    "The first model I try here has an embedding layer and two GRU layers followed by a dense layer. "
   ]
  },
  {
   "cell_type": "code",
   "execution_count": 71,
   "metadata": {
    "scrolled": true
   },
   "outputs": [
    {
     "name": "stdout",
     "output_type": "stream",
     "text": [
      "_________________________________________________________________\n",
      "Layer (type)                 Output Shape              Param #   \n",
      "=================================================================\n",
      "embedding_4 (Embedding)      (None, 100, 32)           320000    \n",
      "_________________________________________________________________\n",
      "gru_7 (GRU)                  (None, 100, 32)           6240      \n",
      "_________________________________________________________________\n",
      "gru_8 (GRU)                  (None, 32)                6240      \n",
      "_________________________________________________________________\n",
      "dense_4 (Dense)              (None, 23)                759       \n",
      "=================================================================\n",
      "Total params: 333,239\n",
      "Trainable params: 333,239\n",
      "Non-trainable params: 0\n",
      "_________________________________________________________________\n"
     ]
    }
   ],
   "source": [
    "model = keras.models.Sequential()\n",
    "\n",
    "model.add(keras.layers.Embedding(max_words, 32, input_length=maxlen))\n",
    "model.add(keras.layers.GRU(32, dropout=0.3, recurrent_dropout=0.3, return_sequences=True))\n",
    "model.add(keras.layers.GRU(32, dropout=0.3, recurrent_dropout=0.3, activation=\"relu\"))\n",
    "model.add(keras.layers.Dense(23, activation=\"softmax\"))\n",
    "\n",
    "model.summary()\n",
    "\n",
    "model.compile(optimizer=\"rmsprop\", loss=\"categorical_crossentropy\", metrics=[\"acc\"])"
   ]
  },
  {
   "cell_type": "markdown",
   "metadata": {},
   "source": [
    "For comparison, I wanted to also try a basic 1D convolutional model with an embedding layer, a couple of 1D convolutional and pooling layers and a dense layer at the end."
   ]
  },
  {
   "cell_type": "code",
   "execution_count": 88,
   "metadata": {},
   "outputs": [
    {
     "name": "stdout",
     "output_type": "stream",
     "text": [
      "_________________________________________________________________\n",
      "Layer (type)                 Output Shape              Param #   \n",
      "=================================================================\n",
      "embedding_6 (Embedding)      (None, 100, 128)          1280000   \n",
      "_________________________________________________________________\n",
      "conv1d_3 (Conv1D)            (None, 94, 32)            28704     \n",
      "_________________________________________________________________\n",
      "max_pooling1d_2 (MaxPooling1 (None, 18, 32)            0         \n",
      "_________________________________________________________________\n",
      "conv1d_4 (Conv1D)            (None, 12, 32)            7200      \n",
      "_________________________________________________________________\n",
      "global_max_pooling1d_2 (Glob (None, 32)                0         \n",
      "_________________________________________________________________\n",
      "dense_6 (Dense)              (None, 23)                759       \n",
      "=================================================================\n",
      "Total params: 1,316,663\n",
      "Trainable params: 1,316,663\n",
      "Non-trainable params: 0\n",
      "_________________________________________________________________\n"
     ]
    }
   ],
   "source": [
    "model_conv1d = keras.models.Sequential()\n",
    "model_conv1d.add(keras.layers.Embedding(max_words, 128, input_length=maxlen))\n",
    "model_conv1d.add(keras.layers.Conv1D(32, 7, activation='relu'))\n",
    "model_conv1d.add(keras.layers.MaxPooling1D(5))\n",
    "model_conv1d.add(keras.layers.Conv1D(32, 7, activation='relu'))\n",
    "model_conv1d.add(keras.layers.GlobalMaxPooling1D())\n",
    "model_conv1d.add(keras.layers.Dense(23, activation=\"softmax\"))\n",
    "model_conv1d.summary()\n",
    "model_conv1d.compile(optimizer=RMSprop(lr=1e-4), loss='categorical_crossentropy', metrics=['acc'])"
   ]
  },
  {
   "cell_type": "markdown",
   "metadata": {},
   "source": [
    "## 5. Training and Validation\n"
   ]
  },
  {
   "cell_type": "markdown",
   "metadata": {},
   "source": [
    "I did 100 epochs with each model to see what the progression with them was over time. Since my PC is subject to random crashes and freezes, I save the model and the history after training the model. "
   ]
  },
  {
   "cell_type": "code",
   "execution_count": 75,
   "metadata": {
    "scrolled": true
   },
   "outputs": [
    {
     "name": "stdout",
     "output_type": "stream",
     "text": [
      "Train on 10433 samples, validate on 12733 samples\n",
      "Epoch 1/100\n",
      "10433/10433 [==============================] - 37s 4ms/step - loss: 2.8491 - acc: 0.1695 - val_loss: 2.7873 - val_acc: 0.1691\n",
      "Epoch 2/100\n",
      "10433/10433 [==============================] - 32s 3ms/step - loss: 2.7495 - acc: 0.1719 - val_loss: 2.7927 - val_acc: 0.1691\n",
      "Epoch 3/100\n",
      "10433/10433 [==============================] - 32s 3ms/step - loss: 2.7057 - acc: 0.1720 - val_loss: 2.8039 - val_acc: 0.1691\n",
      "Epoch 4/100\n",
      "10433/10433 [==============================] - 32s 3ms/step - loss: 2.6497 - acc: 0.1851 - val_loss: 2.8696 - val_acc: 0.1469\n",
      "Epoch 5/100\n",
      "10433/10433 [==============================] - 32s 3ms/step - loss: 2.6078 - acc: 0.1938 - val_loss: 2.8498 - val_acc: 0.1615\n",
      "Epoch 6/100\n",
      "10433/10433 [==============================] - 32s 3ms/step - loss: 2.5689 - acc: 0.2019 - val_loss: 2.8942 - val_acc: 0.1517\n",
      "Epoch 7/100\n",
      "10433/10433 [==============================] - 32s 3ms/step - loss: 2.5309 - acc: 0.2199 - val_loss: 2.8917 - val_acc: 0.1524\n",
      "Epoch 8/100\n",
      "10433/10433 [==============================] - 32s 3ms/step - loss: 2.4807 - acc: 0.2469 - val_loss: 2.9413 - val_acc: 0.1378\n",
      "Epoch 9/100\n",
      "10433/10433 [==============================] - 33s 3ms/step - loss: 2.4475 - acc: 0.2535 - val_loss: 2.9711 - val_acc: 0.1519\n",
      "Epoch 10/100\n",
      "10433/10433 [==============================] - 32s 3ms/step - loss: 2.4197 - acc: 0.2593 - val_loss: 2.9988 - val_acc: 0.1436\n",
      "Epoch 11/100\n",
      "10433/10433 [==============================] - 32s 3ms/step - loss: 2.3842 - acc: 0.2739 - val_loss: 3.0884 - val_acc: 0.1487\n",
      "Epoch 12/100\n",
      "10433/10433 [==============================] - 32s 3ms/step - loss: 2.3547 - acc: 0.2816 - val_loss: 3.0995 - val_acc: 0.1430\n",
      "Epoch 13/100\n",
      "10433/10433 [==============================] - 33s 3ms/step - loss: 2.3280 - acc: 0.2898 - val_loss: 3.0830 - val_acc: 0.1326\n",
      "Epoch 14/100\n",
      "10433/10433 [==============================] - 33s 3ms/step - loss: 2.2981 - acc: 0.2956 - val_loss: 3.1172 - val_acc: 0.1352\n",
      "Epoch 15/100\n",
      "10433/10433 [==============================] - 32s 3ms/step - loss: 2.2727 - acc: 0.3034 - val_loss: 3.1258 - val_acc: 0.1281\n",
      "Epoch 16/100\n",
      "10433/10433 [==============================] - 32s 3ms/step - loss: 2.2418 - acc: 0.3061 - val_loss: 3.2354 - val_acc: 0.1267\n",
      "Epoch 17/100\n",
      "10433/10433 [==============================] - 33s 3ms/step - loss: 2.2180 - acc: 0.3165 - val_loss: 3.2077 - val_acc: 0.1346\n",
      "Epoch 18/100\n",
      "10433/10433 [==============================] - 33s 3ms/step - loss: 2.2087 - acc: 0.3142 - val_loss: 3.2250 - val_acc: 0.1346\n",
      "Epoch 19/100\n",
      "10433/10433 [==============================] - 33s 3ms/step - loss: 2.1786 - acc: 0.3239 - val_loss: 3.2314 - val_acc: 0.1296\n",
      "Epoch 20/100\n",
      "10433/10433 [==============================] - 33s 3ms/step - loss: 2.1546 - acc: 0.3314 - val_loss: 3.2740 - val_acc: 0.1341\n",
      "Epoch 21/100\n",
      "10433/10433 [==============================] - 33s 3ms/step - loss: 2.1407 - acc: 0.3347 - val_loss: 3.2850 - val_acc: 0.1277\n",
      "Epoch 22/100\n",
      "10433/10433 [==============================] - 33s 3ms/step - loss: 2.1144 - acc: 0.3421 - val_loss: 3.2675 - val_acc: 0.1210\n",
      "Epoch 23/100\n",
      "10433/10433 [==============================] - 33s 3ms/step - loss: 2.0910 - acc: 0.3453 - val_loss: 3.3047 - val_acc: 0.1335\n",
      "Epoch 24/100\n",
      "10433/10433 [==============================] - 33s 3ms/step - loss: 2.0652 - acc: 0.3585 - val_loss: 3.2926 - val_acc: 0.1222\n",
      "Epoch 25/100\n",
      "10433/10433 [==============================] - 33s 3ms/step - loss: 2.0430 - acc: 0.3635 - val_loss: 3.3271 - val_acc: 0.1305\n",
      "Epoch 26/100\n",
      "10433/10433 [==============================] - 33s 3ms/step - loss: 2.0142 - acc: 0.3714 - val_loss: 3.3948 - val_acc: 0.1304\n",
      "Epoch 27/100\n",
      "10433/10433 [==============================] - 33s 3ms/step - loss: 1.9934 - acc: 0.3843 - val_loss: 3.3687 - val_acc: 0.1266\n",
      "Epoch 28/100\n",
      "10433/10433 [==============================] - 33s 3ms/step - loss: 1.9706 - acc: 0.3820 - val_loss: 3.3668 - val_acc: 0.1266\n",
      "Epoch 29/100\n",
      "10433/10433 [==============================] - 33s 3ms/step - loss: 1.9506 - acc: 0.3899 - val_loss: 3.4229 - val_acc: 0.1314\n",
      "Epoch 30/100\n",
      "10433/10433 [==============================] - 33s 3ms/step - loss: 1.9281 - acc: 0.3942 - val_loss: 3.4407 - val_acc: 0.1237\n",
      "Epoch 31/100\n",
      "10433/10433 [==============================] - 33s 3ms/step - loss: 1.9065 - acc: 0.4030 - val_loss: 3.4834 - val_acc: 0.1228\n",
      "Epoch 32/100\n",
      "10433/10433 [==============================] - 33s 3ms/step - loss: 1.8868 - acc: 0.4064 - val_loss: 3.5009 - val_acc: 0.1262\n",
      "Epoch 33/100\n",
      "10433/10433 [==============================] - 33s 3ms/step - loss: 1.8752 - acc: 0.4045 - val_loss: 3.5299 - val_acc: 0.1241\n",
      "Epoch 34/100\n",
      "10433/10433 [==============================] - 33s 3ms/step - loss: 1.8477 - acc: 0.4145 - val_loss: 3.5536 - val_acc: 0.1171\n",
      "Epoch 35/100\n",
      "10433/10433 [==============================] - 33s 3ms/step - loss: 1.8282 - acc: 0.4237 - val_loss: 3.5128 - val_acc: 0.1197\n",
      "Epoch 36/100\n",
      "10433/10433 [==============================] - 33s 3ms/step - loss: 1.8158 - acc: 0.4249 - val_loss: 3.5604 - val_acc: 0.1158\n",
      "Epoch 37/100\n",
      "10433/10433 [==============================] - 33s 3ms/step - loss: 1.8048 - acc: 0.4215 - val_loss: 3.6036 - val_acc: 0.1166\n",
      "Epoch 38/100\n",
      "10433/10433 [==============================] - 33s 3ms/step - loss: 1.7840 - acc: 0.4319 - val_loss: 3.6015 - val_acc: 0.1165\n",
      "Epoch 39/100\n",
      "10433/10433 [==============================] - 33s 3ms/step - loss: 1.7718 - acc: 0.4383 - val_loss: 3.6084 - val_acc: 0.1131\n",
      "Epoch 40/100\n",
      "10433/10433 [==============================] - 34s 3ms/step - loss: 1.7483 - acc: 0.4400 - val_loss: 3.6681 - val_acc: 0.1118\n",
      "Epoch 41/100\n",
      "10433/10433 [==============================] - 33s 3ms/step - loss: 1.7234 - acc: 0.4447 - val_loss: 3.6449 - val_acc: 0.1088\n",
      "Epoch 42/100\n",
      "10433/10433 [==============================] - 33s 3ms/step - loss: 1.7087 - acc: 0.4507 - val_loss: 3.7122 - val_acc: 0.1191\n",
      "Epoch 43/100\n",
      "10433/10433 [==============================] - 34s 3ms/step - loss: 1.7051 - acc: 0.4510 - val_loss: 3.7096 - val_acc: 0.1092\n",
      "Epoch 44/100\n",
      "10433/10433 [==============================] - 34s 3ms/step - loss: 1.6752 - acc: 0.4641 - val_loss: 3.8043 - val_acc: 0.1116\n",
      "Epoch 45/100\n",
      "10433/10433 [==============================] - 33s 3ms/step - loss: 1.6579 - acc: 0.4620 - val_loss: 3.7400 - val_acc: 0.1068\n",
      "Epoch 46/100\n",
      "10433/10433 [==============================] - 33s 3ms/step - loss: 1.6584 - acc: 0.4634 - val_loss: 3.7503 - val_acc: 0.1166\n",
      "Epoch 47/100\n",
      "10433/10433 [==============================] - 33s 3ms/step - loss: 1.6432 - acc: 0.4681 - val_loss: 3.7679 - val_acc: 0.1145\n",
      "Epoch 48/100\n",
      "10433/10433 [==============================] - 33s 3ms/step - loss: 1.6310 - acc: 0.4681 - val_loss: 3.7802 - val_acc: 0.1098\n",
      "Epoch 49/100\n",
      "10433/10433 [==============================] - 33s 3ms/step - loss: 1.6163 - acc: 0.4682 - val_loss: 3.8136 - val_acc: 0.1081\n",
      "Epoch 50/100\n",
      "10433/10433 [==============================] - 33s 3ms/step - loss: 1.6086 - acc: 0.4755 - val_loss: 3.8502 - val_acc: 0.1115\n",
      "Epoch 51/100\n",
      "10433/10433 [==============================] - 33s 3ms/step - loss: 1.5934 - acc: 0.4809 - val_loss: 3.8690 - val_acc: 0.1150\n",
      "Epoch 52/100\n",
      "10433/10433 [==============================] - 33s 3ms/step - loss: 1.5916 - acc: 0.4781 - val_loss: 3.8769 - val_acc: 0.1175\n",
      "Epoch 53/100\n",
      "10433/10433 [==============================] - 33s 3ms/step - loss: 1.5700 - acc: 0.4812 - val_loss: 3.9413 - val_acc: 0.1112\n",
      "Epoch 54/100\n",
      "10433/10433 [==============================] - 33s 3ms/step - loss: 1.5705 - acc: 0.4826 - val_loss: 3.9646 - val_acc: 0.1175\n",
      "Epoch 55/100\n",
      "10433/10433 [==============================] - 33s 3ms/step - loss: 1.5605 - acc: 0.4750 - val_loss: 3.8538 - val_acc: 0.1054\n",
      "Epoch 56/100\n",
      "10433/10433 [==============================] - 34s 3ms/step - loss: 1.5395 - acc: 0.4918 - val_loss: 3.9584 - val_acc: 0.1096\n",
      "Epoch 57/100\n",
      "10433/10433 [==============================] - 34s 3ms/step - loss: 1.5271 - acc: 0.4900 - val_loss: 3.9390 - val_acc: 0.1081\n",
      "Epoch 58/100\n",
      "10433/10433 [==============================] - 35s 3ms/step - loss: 1.5233 - acc: 0.4925 - val_loss: 3.9551 - val_acc: 0.1069\n",
      "Epoch 59/100\n"
     ]
    },
    {
     "name": "stdout",
     "output_type": "stream",
     "text": [
      "10433/10433 [==============================] - 34s 3ms/step - loss: 1.5066 - acc: 0.5002 - val_loss: 4.0318 - val_acc: 0.1169\n",
      "Epoch 60/100\n",
      "10433/10433 [==============================] - 34s 3ms/step - loss: 1.5136 - acc: 0.4944 - val_loss: 4.0317 - val_acc: 0.1091\n",
      "Epoch 61/100\n",
      "10433/10433 [==============================] - 34s 3ms/step - loss: 1.4961 - acc: 0.4987 - val_loss: 4.0146 - val_acc: 0.1147\n",
      "Epoch 62/100\n",
      "10433/10433 [==============================] - 34s 3ms/step - loss: 1.4903 - acc: 0.4991 - val_loss: 4.0108 - val_acc: 0.1081\n",
      "Epoch 63/100\n",
      "10433/10433 [==============================] - 35s 3ms/step - loss: 1.4783 - acc: 0.5042 - val_loss: 4.0161 - val_acc: 0.1056\n",
      "Epoch 64/100\n",
      "10433/10433 [==============================] - 35s 3ms/step - loss: 1.4717 - acc: 0.5073 - val_loss: 4.0890 - val_acc: 0.1099\n",
      "Epoch 65/100\n",
      "10433/10433 [==============================] - 35s 3ms/step - loss: 1.4560 - acc: 0.5072 - val_loss: 4.0526 - val_acc: 0.1107\n",
      "Epoch 66/100\n",
      "10433/10433 [==============================] - 34s 3ms/step - loss: 1.4604 - acc: 0.5064 - val_loss: 4.0669 - val_acc: 0.1078\n",
      "Epoch 67/100\n",
      "10433/10433 [==============================] - 34s 3ms/step - loss: 1.4550 - acc: 0.5111 - val_loss: 4.0706 - val_acc: 0.1052\n",
      "Epoch 68/100\n",
      "10433/10433 [==============================] - 34s 3ms/step - loss: 1.4395 - acc: 0.5050 - val_loss: 4.0950 - val_acc: 0.1079\n",
      "Epoch 69/100\n",
      "10433/10433 [==============================] - 34s 3ms/step - loss: 1.4383 - acc: 0.5029 - val_loss: 4.0979 - val_acc: 0.1098\n",
      "Epoch 70/100\n",
      "10433/10433 [==============================] - 34s 3ms/step - loss: 1.4355 - acc: 0.5119 - val_loss: 4.1409 - val_acc: 0.1126\n",
      "Epoch 71/100\n",
      "10433/10433 [==============================] - 34s 3ms/step - loss: 1.4287 - acc: 0.5118 - val_loss: 4.1245 - val_acc: 0.1100\n",
      "Epoch 72/100\n",
      "10433/10433 [==============================] - 34s 3ms/step - loss: 1.4234 - acc: 0.5181 - val_loss: 4.1368 - val_acc: 0.1048\n",
      "Epoch 73/100\n",
      "10433/10433 [==============================] - 34s 3ms/step - loss: 1.4186 - acc: 0.5122 - val_loss: 4.1305 - val_acc: 0.1067\n",
      "Epoch 74/100\n",
      "10433/10433 [==============================] - 34s 3ms/step - loss: 1.4033 - acc: 0.5170 - val_loss: 4.1531 - val_acc: 0.1048\n",
      "Epoch 75/100\n",
      "10433/10433 [==============================] - 35s 3ms/step - loss: 1.4019 - acc: 0.5215 - val_loss: 4.2298 - val_acc: 0.1135\n",
      "Epoch 76/100\n",
      "10433/10433 [==============================] - 34s 3ms/step - loss: 1.3929 - acc: 0.5223 - val_loss: 4.2066 - val_acc: 0.1121\n",
      "Epoch 77/100\n",
      "10433/10433 [==============================] - 34s 3ms/step - loss: 1.3865 - acc: 0.5228 - val_loss: 4.2530 - val_acc: 0.1064\n",
      "Epoch 78/100\n",
      "10433/10433 [==============================] - 34s 3ms/step - loss: 1.3901 - acc: 0.5184 - val_loss: 4.2363 - val_acc: 0.1051\n",
      "Epoch 79/100\n",
      "10433/10433 [==============================] - 34s 3ms/step - loss: 1.3770 - acc: 0.5211 - val_loss: 4.2615 - val_acc: 0.1090\n",
      "Epoch 80/100\n",
      "10433/10433 [==============================] - 34s 3ms/step - loss: 1.3800 - acc: 0.5213 - val_loss: 4.2698 - val_acc: 0.1100\n",
      "Epoch 81/100\n",
      "10433/10433 [==============================] - 34s 3ms/step - loss: 1.3639 - acc: 0.5249 - val_loss: 4.2625 - val_acc: 0.1143\n",
      "Epoch 82/100\n",
      "10433/10433 [==============================] - 34s 3ms/step - loss: 1.3636 - acc: 0.5265 - val_loss: 4.2853 - val_acc: 0.1068\n",
      "Epoch 83/100\n",
      "10433/10433 [==============================] - 34s 3ms/step - loss: 1.3500 - acc: 0.5308 - val_loss: 4.3073 - val_acc: 0.1123\n",
      "Epoch 84/100\n",
      "10433/10433 [==============================] - 34s 3ms/step - loss: 1.3506 - acc: 0.5327 - val_loss: 4.3030 - val_acc: 0.1088\n",
      "Epoch 85/100\n",
      "10433/10433 [==============================] - 34s 3ms/step - loss: 1.3511 - acc: 0.5243 - val_loss: 4.3303 - val_acc: 0.1072\n",
      "Epoch 86/100\n",
      "10433/10433 [==============================] - 34s 3ms/step - loss: 1.3511 - acc: 0.5256 - val_loss: 4.3270 - val_acc: 0.1103\n",
      "Epoch 87/100\n",
      "10433/10433 [==============================] - 35s 3ms/step - loss: 1.3353 - acc: 0.5328 - val_loss: 4.3392 - val_acc: 0.1085\n",
      "Epoch 88/100\n",
      "10433/10433 [==============================] - 34s 3ms/step - loss: 1.3360 - acc: 0.5333 - val_loss: 4.2781 - val_acc: 0.1076\n",
      "Epoch 89/100\n",
      "10433/10433 [==============================] - 34s 3ms/step - loss: 1.3133 - acc: 0.5393 - val_loss: 4.3870 - val_acc: 0.0993\n",
      "Epoch 90/100\n",
      "10433/10433 [==============================] - 34s 3ms/step - loss: 1.3179 - acc: 0.5397 - val_loss: 4.3571 - val_acc: 0.1056\n",
      "Epoch 91/100\n",
      "10433/10433 [==============================] - 35s 3ms/step - loss: 1.3162 - acc: 0.5376 - val_loss: 4.3881 - val_acc: 0.1056\n",
      "Epoch 92/100\n",
      "10433/10433 [==============================] - 35s 3ms/step - loss: 1.3317 - acc: 0.5287 - val_loss: 4.3786 - val_acc: 0.1055\n",
      "Epoch 93/100\n",
      "10433/10433 [==============================] - 34s 3ms/step - loss: 1.3064 - acc: 0.5378 - val_loss: 4.3613 - val_acc: 0.1017\n",
      "Epoch 94/100\n",
      "10433/10433 [==============================] - 35s 3ms/step - loss: 1.3136 - acc: 0.5368 - val_loss: 4.3652 - val_acc: 0.1015\n",
      "Epoch 95/100\n",
      "10433/10433 [==============================] - 34s 3ms/step - loss: 1.2970 - acc: 0.5393 - val_loss: 4.4125 - val_acc: 0.1016\n",
      "Epoch 96/100\n",
      "10433/10433 [==============================] - 35s 3ms/step - loss: 1.2951 - acc: 0.5323 - val_loss: 4.4282 - val_acc: 0.1080\n",
      "Epoch 97/100\n",
      "10433/10433 [==============================] - 34s 3ms/step - loss: 1.2901 - acc: 0.5456 - val_loss: 4.4390 - val_acc: 0.1068\n",
      "Epoch 98/100\n",
      "10433/10433 [==============================] - 34s 3ms/step - loss: 1.2882 - acc: 0.5413 - val_loss: 4.4380 - val_acc: 0.1038\n",
      "Epoch 99/100\n",
      "10433/10433 [==============================] - 35s 3ms/step - loss: 1.2797 - acc: 0.5406 - val_loss: 4.4827 - val_acc: 0.1063\n",
      "Epoch 100/100\n",
      "10433/10433 [==============================] - 34s 3ms/step - loss: 1.2759 - acc: 0.5399 - val_loss: 4.4457 - val_acc: 0.1042\n"
     ]
    }
   ],
   "source": [
    "model_history = model.fit(trdata, trlabels, epochs=100, batch_size=64, validation_data=(tedata, telabels))"
   ]
  },
  {
   "cell_type": "code",
   "execution_count": 76,
   "metadata": {},
   "outputs": [],
   "source": [
    "model.save(\"gru_model.h5\")"
   ]
  },
  {
   "cell_type": "code",
   "execution_count": 80,
   "metadata": {},
   "outputs": [],
   "source": [
    "import pickle\n",
    "with open('gruHistory', 'wb') as file_pi:\n",
    "        pickle.dump(model_history.history, file_pi)"
   ]
  },
  {
   "cell_type": "code",
   "execution_count": 89,
   "metadata": {},
   "outputs": [
    {
     "name": "stdout",
     "output_type": "stream",
     "text": [
      "Train on 10433 samples, validate on 12733 samples\n",
      "Epoch 1/100\n",
      "10433/10433 [==============================] - 23s 2ms/step - loss: 3.0468 - acc: 0.1186 - val_loss: 2.9640 - val_acc: 0.1680\n",
      "Epoch 2/100\n",
      "10433/10433 [==============================] - 23s 2ms/step - loss: 2.8724 - acc: 0.1730 - val_loss: 2.8333 - val_acc: 0.1691\n",
      "Epoch 3/100\n",
      "10433/10433 [==============================] - 23s 2ms/step - loss: 2.7891 - acc: 0.1724 - val_loss: 2.8093 - val_acc: 0.1691\n",
      "Epoch 4/100\n",
      "10433/10433 [==============================] - 23s 2ms/step - loss: 2.7621 - acc: 0.1724 - val_loss: 2.7985 - val_acc: 0.1691\n",
      "Epoch 5/100\n",
      "10433/10433 [==============================] - 23s 2ms/step - loss: 2.7466 - acc: 0.1724 - val_loss: 2.7926 - val_acc: 0.1691\n",
      "Epoch 6/100\n",
      "10433/10433 [==============================] - 23s 2ms/step - loss: 2.7343 - acc: 0.1724 - val_loss: 2.7895 - val_acc: 0.1691\n",
      "Epoch 7/100\n",
      "10433/10433 [==============================] - 23s 2ms/step - loss: 2.7231 - acc: 0.1724 - val_loss: 2.7860 - val_acc: 0.1691\n",
      "Epoch 8/100\n",
      "10433/10433 [==============================] - 23s 2ms/step - loss: 2.7126 - acc: 0.1724 - val_loss: 2.7860 - val_acc: 0.1691\n",
      "Epoch 9/100\n",
      "10433/10433 [==============================] - 23s 2ms/step - loss: 2.7017 - acc: 0.1725 - val_loss: 2.7843 - val_acc: 0.1691\n",
      "Epoch 10/100\n",
      "10433/10433 [==============================] - 23s 2ms/step - loss: 2.6905 - acc: 0.1726 - val_loss: 2.7822 - val_acc: 0.1691\n",
      "Epoch 11/100\n",
      "10433/10433 [==============================] - 22s 2ms/step - loss: 2.6779 - acc: 0.1741 - val_loss: 2.7830 - val_acc: 0.1689\n",
      "Epoch 12/100\n",
      "10433/10433 [==============================] - 23s 2ms/step - loss: 2.6640 - acc: 0.1770 - val_loss: 2.7816 - val_acc: 0.1689\n",
      "Epoch 13/100\n",
      "10433/10433 [==============================] - 22s 2ms/step - loss: 2.6470 - acc: 0.1883 - val_loss: 2.7812 - val_acc: 0.1690\n",
      "Epoch 14/100\n",
      "10433/10433 [==============================] - 22s 2ms/step - loss: 2.6262 - acc: 0.2003 - val_loss: 2.7860 - val_acc: 0.1690\n",
      "Epoch 15/100\n",
      "10433/10433 [==============================] - 22s 2ms/step - loss: 2.6015 - acc: 0.2145 - val_loss: 2.7870 - val_acc: 0.1685\n",
      "Epoch 16/100\n",
      "10433/10433 [==============================] - 22s 2ms/step - loss: 2.5731 - acc: 0.2194 - val_loss: 2.7888 - val_acc: 0.1668\n",
      "Epoch 17/100\n",
      "10433/10433 [==============================] - 22s 2ms/step - loss: 2.5435 - acc: 0.2252 - val_loss: 2.7950 - val_acc: 0.1663\n",
      "Epoch 18/100\n",
      "10433/10433 [==============================] - 22s 2ms/step - loss: 2.5150 - acc: 0.2310 - val_loss: 2.8017 - val_acc: 0.1652\n",
      "Epoch 19/100\n",
      "10433/10433 [==============================] - 22s 2ms/step - loss: 2.4867 - acc: 0.2511 - val_loss: 2.8093 - val_acc: 0.1624\n",
      "Epoch 20/100\n",
      "10433/10433 [==============================] - 22s 2ms/step - loss: 2.4587 - acc: 0.2688 - val_loss: 2.8160 - val_acc: 0.1634\n",
      "Epoch 21/100\n",
      "10433/10433 [==============================] - 22s 2ms/step - loss: 2.4306 - acc: 0.2816 - val_loss: 2.8167 - val_acc: 0.1667\n",
      "Epoch 22/100\n",
      "10433/10433 [==============================] - 22s 2ms/step - loss: 2.4016 - acc: 0.2877 - val_loss: 2.8230 - val_acc: 0.1664\n",
      "Epoch 23/100\n",
      "10433/10433 [==============================] - 23s 2ms/step - loss: 2.3721 - acc: 0.2941 - val_loss: 2.8324 - val_acc: 0.1642\n",
      "Epoch 24/100\n",
      "10433/10433 [==============================] - 22s 2ms/step - loss: 2.3427 - acc: 0.3030 - val_loss: 2.8401 - val_acc: 0.1662\n",
      "Epoch 25/100\n",
      "10433/10433 [==============================] - 22s 2ms/step - loss: 2.3134 - acc: 0.3069 - val_loss: 2.8414 - val_acc: 0.1652\n",
      "Epoch 26/100\n",
      "10433/10433 [==============================] - 22s 2ms/step - loss: 2.2850 - acc: 0.3123 - val_loss: 2.8461 - val_acc: 0.1654\n",
      "Epoch 27/100\n",
      "10433/10433 [==============================] - 22s 2ms/step - loss: 2.2556 - acc: 0.3203 - val_loss: 2.8568 - val_acc: 0.1656\n",
      "Epoch 28/100\n",
      "10433/10433 [==============================] - 22s 2ms/step - loss: 2.2261 - acc: 0.3289 - val_loss: 2.8704 - val_acc: 0.1666\n",
      "Epoch 29/100\n",
      "10433/10433 [==============================] - 22s 2ms/step - loss: 2.1967 - acc: 0.3333 - val_loss: 2.8800 - val_acc: 0.1666\n",
      "Epoch 30/100\n",
      "10433/10433 [==============================] - 22s 2ms/step - loss: 2.1675 - acc: 0.3386 - val_loss: 2.8798 - val_acc: 0.1663\n",
      "Epoch 31/100\n",
      "10433/10433 [==============================] - 22s 2ms/step - loss: 2.1378 - acc: 0.3476 - val_loss: 2.8846 - val_acc: 0.1647\n",
      "Epoch 32/100\n",
      "10433/10433 [==============================] - 23s 2ms/step - loss: 2.1085 - acc: 0.3558 - val_loss: 2.9088 - val_acc: 0.1666\n",
      "Epoch 33/100\n",
      "10433/10433 [==============================] - 22s 2ms/step - loss: 2.0792 - acc: 0.3636 - val_loss: 2.9137 - val_acc: 0.1610\n",
      "Epoch 34/100\n",
      "10433/10433 [==============================] - 22s 2ms/step - loss: 2.0496 - acc: 0.3764 - val_loss: 2.9194 - val_acc: 0.1647\n",
      "Epoch 35/100\n",
      "10433/10433 [==============================] - 22s 2ms/step - loss: 2.0210 - acc: 0.3838 - val_loss: 2.9275 - val_acc: 0.1650\n",
      "Epoch 36/100\n",
      "10433/10433 [==============================] - 22s 2ms/step - loss: 1.9919 - acc: 0.3961 - val_loss: 2.9427 - val_acc: 0.1630\n",
      "Epoch 37/100\n",
      "10433/10433 [==============================] - 23s 2ms/step - loss: 1.9629 - acc: 0.4059 - val_loss: 2.9505 - val_acc: 0.1604\n",
      "Epoch 38/100\n",
      "10433/10433 [==============================] - 22s 2ms/step - loss: 1.9345 - acc: 0.4160 - val_loss: 2.9729 - val_acc: 0.1570\n",
      "Epoch 39/100\n",
      "10433/10433 [==============================] - 22s 2ms/step - loss: 1.9060 - acc: 0.4254 - val_loss: 2.9654 - val_acc: 0.1591\n",
      "Epoch 40/100\n",
      "10433/10433 [==============================] - 22s 2ms/step - loss: 1.8779 - acc: 0.4349 - val_loss: 2.9835 - val_acc: 0.1608\n",
      "Epoch 41/100\n",
      "10433/10433 [==============================] - 22s 2ms/step - loss: 1.8509 - acc: 0.4446 - val_loss: 2.9923 - val_acc: 0.1559\n",
      "Epoch 42/100\n",
      "10433/10433 [==============================] - 22s 2ms/step - loss: 1.8228 - acc: 0.4532 - val_loss: 3.0019 - val_acc: 0.1591\n",
      "Epoch 43/100\n",
      "10433/10433 [==============================] - 22s 2ms/step - loss: 1.7961 - acc: 0.4630 - val_loss: 3.0173 - val_acc: 0.1572\n",
      "Epoch 44/100\n",
      "10433/10433 [==============================] - 22s 2ms/step - loss: 1.7687 - acc: 0.4701 - val_loss: 3.0252 - val_acc: 0.1561\n",
      "Epoch 45/100\n",
      "10433/10433 [==============================] - 22s 2ms/step - loss: 1.7423 - acc: 0.4776 - val_loss: 3.0382 - val_acc: 0.1534\n",
      "Epoch 46/100\n",
      "10433/10433 [==============================] - 22s 2ms/step - loss: 1.7160 - acc: 0.4810 - val_loss: 3.0612 - val_acc: 0.1572\n",
      "Epoch 47/100\n",
      "10433/10433 [==============================] - 22s 2ms/step - loss: 1.6894 - acc: 0.4879 - val_loss: 3.0831 - val_acc: 0.1571\n",
      "Epoch 48/100\n",
      "10433/10433 [==============================] - 23s 2ms/step - loss: 1.6644 - acc: 0.4928 - val_loss: 3.0954 - val_acc: 0.1557\n",
      "Epoch 49/100\n",
      "10433/10433 [==============================] - 23s 2ms/step - loss: 1.6391 - acc: 0.4992 - val_loss: 3.0981 - val_acc: 0.1510\n",
      "Epoch 50/100\n",
      "10433/10433 [==============================] - 23s 2ms/step - loss: 1.6138 - acc: 0.5013 - val_loss: 3.1065 - val_acc: 0.1478\n",
      "Epoch 51/100\n",
      "10433/10433 [==============================] - 23s 2ms/step - loss: 1.5900 - acc: 0.5062 - val_loss: 3.1424 - val_acc: 0.1541\n",
      "Epoch 52/100\n",
      "10433/10433 [==============================] - 23s 2ms/step - loss: 1.5658 - acc: 0.5097 - val_loss: 3.1297 - val_acc: 0.1457\n",
      "Epoch 53/100\n",
      "10433/10433 [==============================] - 23s 2ms/step - loss: 1.5430 - acc: 0.5128 - val_loss: 3.1477 - val_acc: 0.1491\n",
      "Epoch 54/100\n",
      "10433/10433 [==============================] - 23s 2ms/step - loss: 1.5203 - acc: 0.5193 - val_loss: 3.1813 - val_acc: 0.1561\n",
      "Epoch 55/100\n",
      "10433/10433 [==============================] - 23s 2ms/step - loss: 1.4980 - acc: 0.5185 - val_loss: 3.1704 - val_acc: 0.1482\n",
      "Epoch 56/100\n",
      "10433/10433 [==============================] - 23s 2ms/step - loss: 1.4757 - acc: 0.5230 - val_loss: 3.1933 - val_acc: 0.1506\n",
      "Epoch 57/100\n",
      "10433/10433 [==============================] - 23s 2ms/step - loss: 1.4544 - acc: 0.5261 - val_loss: 3.2080 - val_acc: 0.1460\n",
      "Epoch 58/100\n",
      "10433/10433 [==============================] - 23s 2ms/step - loss: 1.4339 - acc: 0.5278 - val_loss: 3.2180 - val_acc: 0.1451\n",
      "Epoch 59/100\n"
     ]
    },
    {
     "name": "stdout",
     "output_type": "stream",
     "text": [
      "10433/10433 [==============================] - 23s 2ms/step - loss: 1.4130 - acc: 0.5284 - val_loss: 3.2375 - val_acc: 0.1501\n",
      "Epoch 60/100\n",
      "10433/10433 [==============================] - 23s 2ms/step - loss: 1.3934 - acc: 0.5346 - val_loss: 3.2342 - val_acc: 0.1501\n",
      "Epoch 61/100\n",
      "10433/10433 [==============================] - 23s 2ms/step - loss: 1.3736 - acc: 0.5351 - val_loss: 3.2462 - val_acc: 0.1454\n",
      "Epoch 62/100\n",
      "10433/10433 [==============================] - 23s 2ms/step - loss: 1.3545 - acc: 0.5408 - val_loss: 3.2682 - val_acc: 0.1422\n",
      "Epoch 63/100\n",
      "10433/10433 [==============================] - 23s 2ms/step - loss: 1.3363 - acc: 0.5407 - val_loss: 3.2835 - val_acc: 0.1457\n",
      "Epoch 64/100\n",
      "10433/10433 [==============================] - 23s 2ms/step - loss: 1.3174 - acc: 0.5442 - val_loss: 3.2778 - val_acc: 0.1443\n",
      "Epoch 65/100\n",
      "10433/10433 [==============================] - 23s 2ms/step - loss: 1.3005 - acc: 0.5465 - val_loss: 3.3126 - val_acc: 0.1496\n",
      "Epoch 66/100\n",
      "10433/10433 [==============================] - 23s 2ms/step - loss: 1.2828 - acc: 0.5461 - val_loss: 3.3205 - val_acc: 0.1474\n",
      "Epoch 67/100\n",
      "10433/10433 [==============================] - 23s 2ms/step - loss: 1.2662 - acc: 0.5487 - val_loss: 3.3405 - val_acc: 0.1458\n",
      "Epoch 68/100\n",
      "10433/10433 [==============================] - 23s 2ms/step - loss: 1.2499 - acc: 0.5506 - val_loss: 3.3264 - val_acc: 0.1457\n",
      "Epoch 69/100\n",
      "10433/10433 [==============================] - 23s 2ms/step - loss: 1.2342 - acc: 0.5533 - val_loss: 3.3418 - val_acc: 0.1447\n",
      "Epoch 70/100\n",
      "10433/10433 [==============================] - 23s 2ms/step - loss: 1.2185 - acc: 0.5575 - val_loss: 3.3813 - val_acc: 0.1408\n",
      "Epoch 71/100\n",
      "10433/10433 [==============================] - 23s 2ms/step - loss: 1.2043 - acc: 0.5538 - val_loss: 3.3761 - val_acc: 0.1441\n",
      "Epoch 72/100\n",
      "10433/10433 [==============================] - 23s 2ms/step - loss: 1.1896 - acc: 0.5577 - val_loss: 3.3975 - val_acc: 0.1470\n",
      "Epoch 73/100\n",
      "10433/10433 [==============================] - 23s 2ms/step - loss: 1.1748 - acc: 0.5573 - val_loss: 3.4154 - val_acc: 0.1386\n",
      "Epoch 74/100\n",
      "10433/10433 [==============================] - 23s 2ms/step - loss: 1.1611 - acc: 0.5600 - val_loss: 3.4387 - val_acc: 0.1457\n",
      "Epoch 75/100\n",
      "10433/10433 [==============================] - 24s 2ms/step - loss: 1.1474 - acc: 0.5595 - val_loss: 3.4361 - val_acc: 0.1419\n",
      "Epoch 76/100\n",
      "10433/10433 [==============================] - 23s 2ms/step - loss: 1.1352 - acc: 0.5613 - val_loss: 3.4191 - val_acc: 0.1373\n",
      "Epoch 77/100\n",
      "10433/10433 [==============================] - 23s 2ms/step - loss: 1.1223 - acc: 0.5647 - val_loss: 3.4428 - val_acc: 0.1429\n",
      "Epoch 78/100\n",
      "10433/10433 [==============================] - 23s 2ms/step - loss: 1.1100 - acc: 0.5635 - val_loss: 3.4756 - val_acc: 0.1417\n",
      "Epoch 79/100\n",
      "10433/10433 [==============================] - 23s 2ms/step - loss: 1.0981 - acc: 0.5643 - val_loss: 3.4814 - val_acc: 0.1417\n",
      "Epoch 80/100\n",
      "10433/10433 [==============================] - 24s 2ms/step - loss: 1.0857 - acc: 0.5605 - val_loss: 3.4892 - val_acc: 0.1426\n",
      "Epoch 81/100\n",
      "10433/10433 [==============================] - 23s 2ms/step - loss: 1.0749 - acc: 0.5641 - val_loss: 3.5198 - val_acc: 0.1383\n",
      "Epoch 82/100\n",
      "10433/10433 [==============================] - 23s 2ms/step - loss: 1.0634 - acc: 0.5623 - val_loss: 3.5472 - val_acc: 0.1418\n",
      "Epoch 83/100\n",
      "10433/10433 [==============================] - 23s 2ms/step - loss: 1.0531 - acc: 0.5624 - val_loss: 3.5500 - val_acc: 0.1373\n",
      "Epoch 84/100\n",
      "10433/10433 [==============================] - 23s 2ms/step - loss: 1.0425 - acc: 0.5627 - val_loss: 3.5687 - val_acc: 0.1440\n",
      "Epoch 85/100\n",
      "10433/10433 [==============================] - 23s 2ms/step - loss: 1.0333 - acc: 0.5619 - val_loss: 3.5676 - val_acc: 0.1401\n",
      "Epoch 86/100\n",
      "10433/10433 [==============================] - 23s 2ms/step - loss: 1.0224 - acc: 0.5632 - val_loss: 3.5764 - val_acc: 0.1417\n",
      "Epoch 87/100\n",
      "10433/10433 [==============================] - 23s 2ms/step - loss: 1.0135 - acc: 0.5619 - val_loss: 3.5957 - val_acc: 0.1387\n",
      "Epoch 88/100\n",
      "10433/10433 [==============================] - 23s 2ms/step - loss: 1.0043 - acc: 0.5614 - val_loss: 3.6190 - val_acc: 0.1436\n",
      "Epoch 89/100\n",
      "10433/10433 [==============================] - 24s 2ms/step - loss: 0.9946 - acc: 0.5590 - val_loss: 3.5971 - val_acc: 0.1380\n",
      "Epoch 90/100\n",
      "10433/10433 [==============================] - 23s 2ms/step - loss: 0.9876 - acc: 0.5593 - val_loss: 3.6382 - val_acc: 0.1392\n",
      "Epoch 91/100\n",
      "10433/10433 [==============================] - 23s 2ms/step - loss: 0.9784 - acc: 0.5621 - val_loss: 3.6826 - val_acc: 0.1457\n",
      "Epoch 92/100\n",
      "10433/10433 [==============================] - 23s 2ms/step - loss: 0.9707 - acc: 0.5638 - val_loss: 3.6384 - val_acc: 0.1356\n",
      "Epoch 93/100\n",
      "10433/10433 [==============================] - 23s 2ms/step - loss: 0.9621 - acc: 0.5621 - val_loss: 3.6525 - val_acc: 0.1393\n",
      "Epoch 94/100\n",
      "10433/10433 [==============================] - 23s 2ms/step - loss: 0.9550 - acc: 0.5589 - val_loss: 3.6641 - val_acc: 0.1389\n",
      "Epoch 95/100\n",
      "10433/10433 [==============================] - 23s 2ms/step - loss: 0.9480 - acc: 0.5585 - val_loss: 3.6677 - val_acc: 0.1370\n",
      "Epoch 96/100\n",
      "10433/10433 [==============================] - 23s 2ms/step - loss: 0.9404 - acc: 0.5587 - val_loss: 3.7089 - val_acc: 0.1411\n",
      "Epoch 97/100\n",
      "10433/10433 [==============================] - 23s 2ms/step - loss: 0.9336 - acc: 0.5561 - val_loss: 3.7277 - val_acc: 0.1410\n",
      "Epoch 98/100\n",
      "10433/10433 [==============================] - 23s 2ms/step - loss: 0.9262 - acc: 0.5569 - val_loss: 3.7496 - val_acc: 0.1384\n",
      "Epoch 99/100\n",
      "10433/10433 [==============================] - 24s 2ms/step - loss: 0.9200 - acc: 0.5570 - val_loss: 3.7264 - val_acc: 0.1388\n",
      "Epoch 100/100\n",
      "10433/10433 [==============================] - 24s 2ms/step - loss: 0.9139 - acc: 0.5554 - val_loss: 3.7325 - val_acc: 0.1314\n"
     ]
    }
   ],
   "source": [
    "model_conv1d_history = model_conv1d.fit(trdata, trlabels, epochs=100, batch_size=64, validation_data=(tedata, telabels))"
   ]
  },
  {
   "cell_type": "code",
   "execution_count": 92,
   "metadata": {},
   "outputs": [],
   "source": [
    "model_conv1d.save(\"conv1d_model.h5\")"
   ]
  },
  {
   "cell_type": "code",
   "execution_count": 93,
   "metadata": {},
   "outputs": [],
   "source": [
    "with open('conv1dHistory', 'wb') as file_pi:\n",
    "        pickle.dump(model_conv1d_history.history, file_pi)"
   ]
  },
  {
   "cell_type": "markdown",
   "metadata": {},
   "source": [
    "## 6. Evaluation"
   ]
  },
  {
   "cell_type": "code",
   "execution_count": 94,
   "metadata": {},
   "outputs": [
    {
     "data": {
      "image/png": "[encoded data removed]",
      "text/plain": [
       "<matplotlib.figure.Figure at 0x27294ae93c8>"
      ]
     },
     "metadata": {},
     "output_type": "display_data"
    },
    {
     "data": {
      "image/png": "[encoded data removed]",
      "text/plain": [
       "<matplotlib.figure.Figure at 0x27294aaf588>"
      ]
     },
     "metadata": {},
     "output_type": "display_data"
    }
   ],
   "source": [
    "acc = model_history.history['acc']\n",
    "val_acc = model_history.history['val_acc']\n",
    "loss = model_history.history['loss']\n",
    "val_loss = model_history.history['val_loss']\n",
    "epochs = range(1, len(acc) + 1)\n",
    "\n",
    "plot(epochs, acc, 'bo', label='Training acc')\n",
    "plot(epochs, val_acc, 'b', label='Validation acc')\n",
    "title('Training and validation accuracy')\n",
    "legend()\n",
    "\n",
    "figure()\n",
    "plot(epochs, loss, 'bo', label='Training loss')\n",
    "plot(epochs, val_loss, 'b', label='Validation loss')\n",
    "title('Training and validation loss')\n",
    "legend()\n",
    "\n",
    "show()"
   ]
  },
  {
   "cell_type": "code",
   "execution_count": 95,
   "metadata": {},
   "outputs": [
    {
     "data": {
      "image/png": "[encoded data removed]",
      "text/plain": [
       "<matplotlib.figure.Figure at 0x27298f447b8>"
      ]
     },
     "metadata": {},
     "output_type": "display_data"
    },
    {
     "data": {
      "image/png": "[encoded data removed]",
      "text/plain": [
       "<matplotlib.figure.Figure at 0x27298e944e0>"
      ]
     },
     "metadata": {},
     "output_type": "display_data"
    }
   ],
   "source": [
    "acc = model_conv1d_history.history['acc']\n",
    "val_acc = model_conv1d_history.history['val_acc']\n",
    "loss = model_conv1d_history.history['loss']\n",
    "val_loss = model_conv1d_history.history['val_loss']\n",
    "epochs = range(1, len(acc) + 1)\n",
    "\n",
    "plot(epochs, acc, 'bo', label='Training acc')\n",
    "plot(epochs, val_acc, 'b', label='Validation acc')\n",
    "title('Training and validation accuracy')\n",
    "legend()\n",
    "\n",
    "figure()\n",
    "plot(epochs, loss, 'bo', label='Training loss')\n",
    "plot(epochs, val_loss, 'b', label='Validation loss')\n",
    "title('Training and validation loss')\n",
    "legend()\n",
    "\n",
    "show()"
   ]
  },
  {
   "cell_type": "markdown",
   "metadata": {},
   "source": [
    "## 7. Results and Discussion"
   ]
  },
  {
   "cell_type": "markdown",
   "metadata": {},
   "source": [
    "The results are pretty abominable with these models. The longer I went on training, the worse the validation accuracy got, which goes to show that this approach is not great for the given task. I don't know what kind of a model would be good for this kind of problem. A random guess from 23 categories would have resulted in about 4% accuracy (assuming there are similar amounts of entries in each category, which there aren't) so the result is still above baseline even after 100 epochs in both cases."
   ]
  },
  {
   "cell_type": "markdown",
   "metadata": {},
   "source": [
    "## 8. Conclusions"
   ]
  },
  {
   "cell_type": "markdown",
   "metadata": {},
   "source": [
    "I don't really know what is wrong with my models, but they aren't great. Validation accuracy seems to get successively worse after each epoch and is at it's highest right at the start, so this approach is obviously horribly unviable. Training the models took a long time and I didn't have extra time for tweaking the models and trying different layer structures, so I'm going to have to stick with this. "
   ]
  }
 ],
 "metadata": {
  "kernelspec": {
   "display_name": "Python 3",
   "language": "python",
   "name": "python3"
  },
  "language_info": {
   "codemirror_mode": {
    "name": "ipython",
    "version": 3
   },
   "file_extension": ".py",
   "mimetype": "text/x-python",
   "name": "python",
   "nbconvert_exporter": "python",
   "pygments_lexer": "ipython3",
   "version": "3.6.4"
  }
 },
 "nbformat": 4,
 "nbformat_minor": 2
}
