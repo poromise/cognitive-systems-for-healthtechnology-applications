{
 "cells": [
  {
   "cell_type": "markdown",
   "metadata": {},
   "source": [
    "# Week 1 - Exercises\n",
    "Simo Hyttinen - 19.1.2018 <br>\n",
    "Metropolia"
   ]
  },
  {
   "cell_type": "code",
   "execution_count": 1,
   "metadata": {},
   "outputs": [
    {
     "name": "stdout",
     "output_type": "stream",
     "text": [
      "Populating the interactive namespace from numpy and matplotlib\n"
     ]
    }
   ],
   "source": [
    "import pandas as pd\n",
    "%pylab inline\n"
   ]
  },
  {
   "cell_type": "markdown",
   "metadata": {},
   "source": [
    "## Exercise 1\n",
    "Use numpy arrays to create a x-vector from 0 to 1000. Calculate the\n",
    "value of log(x+1) and assign that to y-vector. Use matplotlib to create a\n",
    "plot of y vs. x. Annotate the graph with title, x- and y-labels."
   ]
  },
  {
   "cell_type": "code",
   "execution_count": 13,
   "metadata": {},
   "outputs": [
    {
     "data": {
      "text/plain": [
       "[<matplotlib.lines.Line2D at 0x1d7f9bd55c0>]"
      ]
     },
     "execution_count": 13,
     "metadata": {},
     "output_type": "execute_result"
    },
    {
     "data": {
      "image/png": "[encoded data removed]",
      "text/plain": [
       "<matplotlib.figure.Figure at 0x1d7f9b56b38>"
      ]
     },
     "metadata": {},
     "output_type": "display_data"
    }
   ],
   "source": [
    "# Assign vectors\n",
    "xvect = arange(0,1001,1)\n",
    "yvect = log(xvect + 1)\n",
    "\n",
    "# Make a figure\n",
    "fig = figure()\n",
    "ax = fig.add_subplot(111)\n",
    "\n",
    "# Set title and labels\n",
    "ax.set_title('title')\n",
    "ax.set_xlabel('x')\n",
    "ax.set_ylabel('log(x+1)')\n",
    "\n",
    "# Plot the figure\n",
    "plot(xvect, yvect)"
   ]
  },
  {
   "cell_type": "markdown",
   "metadata": {},
   "source": [
    "## Exercise 2\n",
    "Use pandas to read data from:\n",
    "http://archive.ics.uci.edu/ml/machine-learning-databases/heartdisease/processed.switzerland.data\n",
    "Find out how to give the column names, and handle missing values.\n",
    "Plot a histogram of the age column."
   ]
  },
  {
   "cell_type": "code",
   "execution_count": 23,
   "metadata": {
    "scrolled": true
   },
   "outputs": [
    {
     "data": {
      "text/plain": [
       "array([[<matplotlib.axes._subplots.AxesSubplot object at 0x000001D7FA69A048>]], dtype=object)"
      ]
     },
     "execution_count": 23,
     "metadata": {},
     "output_type": "execute_result"
    },
    {
     "data": {
      "image/png": "[encoded data removed]",
      "text/plain": [
       "<matplotlib.figure.Figure at 0x1d7fa57b5f8>"
      ]
     },
     "metadata": {},
     "output_type": "display_data"
    }
   ],
   "source": [
    "rawdata = pd.read_csv('http://archive.ics.uci.edu/ml/machine-learning-databases/heart-disease/processed.switzerland.data')\n",
    "rawdata.columns = ['age', 'sex', 'cp', 'trestbps', 'chol', 'fbs',\n",
    "                  'restecg', 'thalach', 'exang', 'oldpeak',\n",
    "                  'slope', 'ca', 'thal', 'num']\n",
    "rawdata.hist(column='age')"
   ]
  },
  {
   "cell_type": "code",
   "execution_count": null,
   "metadata": {},
   "outputs": [],
   "source": []
  }
 ],
 "metadata": {
  "kernelspec": {
   "display_name": "Python 3",
   "language": "python",
   "name": "python3"
  },
  "language_info": {
   "codemirror_mode": {
    "name": "ipython",
    "version": 3
   },
   "file_extension": ".py",
   "mimetype": "text/x-python",
   "name": "python",
   "nbconvert_exporter": "python",
   "pygments_lexer": "ipython3",
   "version": "3.6.4"
  }
 },
 "nbformat": 4,
 "nbformat_minor": 2
}
