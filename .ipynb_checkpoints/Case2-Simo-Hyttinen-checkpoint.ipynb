{
 "cells": [
  {
   "cell_type": "markdown",
   "metadata": {},
   "source": [
    "# Diabetic retinopathy analysis\n",
    "Simo Hyttinen<br>\n",
    "Last edited: 25.02.2018<br>\n",
    "Cognitive Systems for Health Technology Applications<br>\n",
    "<a href=\"https://www.metropolia.fi/en\">Helsinki Metropolia University of Applied Sciences</a>\n"
   ]
  },
  {
   "cell_type": "markdown",
   "metadata": {},
   "source": [
    "## 1. Objectives"
   ]
  },
  {
   "cell_type": "markdown",
   "metadata": {},
   "source": [
    "The point of this assignment is to import medical image data and to create a convolutional neural network to detect diabetic retinopathy."
   ]
  },
  {
   "cell_type": "markdown",
   "metadata": {},
   "source": [
    "## 2. Required libraries"
   ]
  },
  {
   "cell_type": "code",
   "execution_count": 1,
   "metadata": {},
   "outputs": [
    {
     "name": "stdout",
     "output_type": "stream",
     "text": [
      "Populating the interactive namespace from numpy and matplotlib\n"
     ]
    }
   ],
   "source": [
    "%pylab inline"
   ]
  },
  {
   "cell_type": "code",
   "execution_count": 2,
   "metadata": {},
   "outputs": [
    {
     "name": "stderr",
     "output_type": "stream",
     "text": [
      "Using TensorFlow backend.\n"
     ]
    }
   ],
   "source": [
    "import pandas as pd\n",
    "import keras\n",
    "import imageio as im\n",
    "from keras.preprocessing.image import ImageDataGenerator\n",
    "import time"
   ]
  },
  {
   "cell_type": "markdown",
   "metadata": {},
   "source": [
    "The below cells were used on the IBM platform. More on that later."
   ]
  },
  {
   "cell_type": "code",
   "execution_count": 4,
   "metadata": {},
   "outputs": [],
   "source": [
    "# This cell is to be run only when the dataset is not in local storage\n",
    "#from urllib.request import urlretrieve\n",
    "#url = r\"https://github.com/Nomikxyz/retinopathy-dataset/archive/master.zip\"\n",
    "#dst = 'master.zip'\n",
    "#urlretrieve(url, dst)\n",
    "#from zipfile import ZipFile\n",
    "#zip_ref = ZipFile('master.zip', 'r')\n",
    "#zip_ref.extractall()\n",
    "#zip_ref.close()"
   ]
  },
  {
   "cell_type": "code",
   "execution_count": 5,
   "metadata": {},
   "outputs": [
    {
     "data": {
      "text/plain": [
       "['README.md', 'symptoms', 'nosymptoms']"
      ]
     },
     "execution_count": 5,
     "metadata": {},
     "output_type": "execute_result"
    }
   ],
   "source": [
    "# This cell shows you if the dataset is in local storage\n",
    "#import os\n",
    "#os.listdir('retinopathy-dataset-master')"
   ]
  },
  {
   "cell_type": "markdown",
   "metadata": {},
   "source": [
    "## 3. Data description and preprocessing"
   ]
  },
  {
   "cell_type": "code",
   "execution_count": 3,
   "metadata": {},
   "outputs": [],
   "source": [
    "img_width, img_height = 512, 512\n",
    "input_width, input_height = 256, 256\n",
    "train_data_dir = 'retinopathy-dataset-master/'\n",
    "\n"
   ]
  },
  {
   "cell_type": "markdown",
   "metadata": {},
   "source": [
    "## 4. Modeling and compilation"
   ]
  },
  {
   "cell_type": "code",
   "execution_count": 4,
   "metadata": {},
   "outputs": [
    {
     "name": "stdout",
     "output_type": "stream",
     "text": [
      "_________________________________________________________________\n",
      "Layer (type)                 Output Shape              Param #   \n",
      "=================================================================\n",
      "conv2d_1 (Conv2D)            (None, 254, 254, 16)      448       \n",
      "_________________________________________________________________\n",
      "conv2d_2 (Conv2D)            (None, 252, 252, 16)      2320      \n",
      "_________________________________________________________________\n",
      "max_pooling2d_1 (MaxPooling2 (None, 126, 126, 16)      0         \n",
      "_________________________________________________________________\n",
      "dropout_1 (Dropout)          (None, 126, 126, 16)      0         \n",
      "_________________________________________________________________\n",
      "conv2d_3 (Conv2D)            (None, 124, 124, 32)      4640      \n",
      "_________________________________________________________________\n",
      "max_pooling2d_2 (MaxPooling2 (None, 62, 62, 32)        0         \n",
      "_________________________________________________________________\n",
      "conv2d_4 (Conv2D)            (None, 60, 60, 32)        9248      \n",
      "_________________________________________________________________\n",
      "max_pooling2d_3 (MaxPooling2 (None, 30, 30, 32)        0         \n",
      "_________________________________________________________________\n",
      "dropout_2 (Dropout)          (None, 30, 30, 32)        0         \n",
      "_________________________________________________________________\n",
      "flatten_1 (Flatten)          (None, 28800)             0         \n",
      "_________________________________________________________________\n",
      "dense_1 (Dense)              (None, 32)                921632    \n",
      "_________________________________________________________________\n",
      "dense_2 (Dense)              (None, 16)                528       \n",
      "_________________________________________________________________\n",
      "dense_3 (Dense)              (None, 1)                 17        \n",
      "=================================================================\n",
      "Total params: 938,833\n",
      "Trainable params: 938,833\n",
      "Non-trainable params: 0\n",
      "_________________________________________________________________\n"
     ]
    }
   ],
   "source": [
    "model = keras.models.Sequential()\n",
    "model.add(keras.layers.Conv2D(16, (3, 3), input_shape=(input_width, input_height, 3), activation=\"relu\"))\n",
    "model.add(keras.layers.Conv2D(16, (3, 3), activation=\"relu\"))\n",
    "model.add(keras.layers.MaxPooling2D((2, 2)))\n",
    "model.add(keras.layers.Dropout(0.15))\n",
    "model.add(keras.layers.Conv2D(32, (3, 3), activation=\"relu\"))\n",
    "model.add(keras.layers.MaxPooling2D((2, 2)))\n",
    "model.add(keras.layers.Conv2D(32, (3, 3), activation=\"relu\"))\n",
    "model.add(keras.layers.MaxPooling2D((2, 2)))\n",
    "model.add(keras.layers.Dropout(0.15))\n",
    "model.add(keras.layers.Flatten())\n",
    "model.add(keras.layers.Dense(32, activation=\"relu\"))\n",
    "model.add(keras.layers.Dense(16, activation=\"relu\"))\n",
    "model.add(keras.layers.Dense(1, activation = \"sigmoid\"))\n",
    "\n",
    "\n",
    "model.compile(loss = 'binary_crossentropy',\n",
    "              optimizer = 'rmsprop',\n",
    "              metrics = ['accuracy'])\n",
    "\n",
    "model.summary()"
   ]
  },
  {
   "cell_type": "markdown",
   "metadata": {},
   "source": [
    "## 5. Training and Validation\n"
   ]
  },
  {
   "cell_type": "code",
   "execution_count": 18,
   "metadata": {},
   "outputs": [
    {
     "name": "stdout",
     "output_type": "stream",
     "text": [
      "Found 2063 images belonging to 2 classes.\n",
      "Epoch 1/15\n",
      "129/129 [==============================] - 1162s 9s/step - loss: 0.5533 - acc: 0.7180\n",
      "Epoch 2/15\n",
      "129/129 [==============================] - 1150s 9s/step - loss: 0.4956 - acc: 0.7522\n",
      "Epoch 3/15\n",
      "129/129 [==============================] - 1141s 9s/step - loss: 0.4626 - acc: 0.7755\n",
      "Epoch 4/15\n",
      "129/129 [==============================] - 1137s 9s/step - loss: 0.4426 - acc: 0.7799\n",
      "Epoch 5/15\n",
      "129/129 [==============================] - 1136s 9s/step - loss: 0.4370 - acc: 0.7823\n",
      "Epoch 6/15\n",
      "129/129 [==============================] - 1152s 9s/step - loss: 0.4286 - acc: 0.7887\n",
      "Epoch 7/15\n",
      "129/129 [==============================] - 1145s 9s/step - loss: 0.4116 - acc: 0.7969\n",
      "Epoch 8/15\n",
      "129/129 [==============================] - 1143s 9s/step - loss: 0.4100 - acc: 0.7988\n",
      "Epoch 9/15\n",
      "129/129 [==============================] - 1163s 9s/step - loss: 0.4090 - acc: 0.7988\n",
      "Epoch 10/15\n",
      "129/129 [==============================] - 1167s 9s/step - loss: 0.3981 - acc: 0.8041\n",
      "Epoch 11/15\n",
      "129/129 [==============================] - 1164s 9s/step - loss: 0.3976 - acc: 0.8076\n",
      "Epoch 12/15\n",
      "129/129 [==============================] - 1161s 9s/step - loss: 0.3892 - acc: 0.8062\n",
      "Epoch 13/15\n",
      "129/129 [==============================] - 1173s 9s/step - loss: 0.3801 - acc: 0.8158\n",
      "Epoch 14/15\n",
      "129/129 [==============================] - 1173s 9s/step - loss: 0.3657 - acc: 0.8250\n",
      "Epoch 15/15\n",
      "129/129 [==============================] - 1196s 9s/step - loss: 0.3587 - acc: 0.8226\n"
     ]
    }
   ],
   "source": [
    "epochs = 15\n",
    "batch_size = 16\n",
    "\n",
    "train_datagen = ImageDataGenerator(rescale=1./255)\n",
    "\n",
    "train_generator = train_datagen.flow_from_directory(\n",
    "        train_data_dir,\n",
    "        target_size=(input_width, input_height),\n",
    "        batch_size=batch_size,\n",
    "        class_mode='binary')\n",
    "\n",
    "t1 = time.time()\n",
    "history = model.fit_generator(\n",
    "        train_generator,\n",
    "        steps_per_epoch = 2063 // batch_size + 1,\n",
    "        epochs = epochs)\n",
    "\n",
    "t2 = time.time()\n",
    "model.save('Case2model.h5')"
   ]
  },
  {
   "cell_type": "markdown",
   "metadata": {},
   "source": [
    "### Disclaimer:\n",
    "I ran this on the IBM DSE server to cut back on time spent training the network. I left it to run while I went to work and when I came back the notebook kernel had stopped and I hadn't saved the model, so I restarted the kernel and reran the code and made sure to save the model and tried for a couple of hours to find out how to download the file to my PC or even send it via email or FTP but nothing I tried worked. When I got back to work on it in the morning, the files were wiped off the server. So I asked Mikko Peltola for a copy of his model to use and that's what I'm using here. It's slightly different from mine.<br><br>\n",
    "\n",
    "Also, I totally forgot to split my data into training and validation sets, so my model wouldn't have been very good anyway."
   ]
  },
  {
   "cell_type": "code",
   "execution_count": 5,
   "metadata": {},
   "outputs": [],
   "source": [
    "model2 = keras.models.load_model('data/case2_mikko.h5')"
   ]
  },
  {
   "cell_type": "markdown",
   "metadata": {},
   "source": [
    "## 6. Evaluation"
   ]
  },
  {
   "cell_type": "markdown",
   "metadata": {},
   "source": [
    "## 7. Results and Discussion"
   ]
  },
  {
   "cell_type": "code",
   "execution_count": null,
   "metadata": {},
   "outputs": [],
   "source": []
  },
  {
   "cell_type": "markdown",
   "metadata": {},
   "source": [
    "## 8. Conclusions"
   ]
  },
  {
   "cell_type": "code",
   "execution_count": null,
   "metadata": {},
   "outputs": [],
   "source": []
  }
 ],
 "metadata": {
  "kernelspec": {
   "display_name": "Python 3",
   "language": "python",
   "name": "python3"
  },
  "language_info": {
   "codemirror_mode": {
    "name": "ipython",
    "version": 3
   },
   "file_extension": ".py",
   "mimetype": "text/x-python",
   "name": "python",
   "nbconvert_exporter": "python",
   "pygments_lexer": "ipython3",
   "version": "3.6.4"
  }
 },
 "nbformat": 4,
 "nbformat_minor": 2
}
