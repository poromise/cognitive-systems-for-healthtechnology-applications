{
 "cells": [
  {
   "cell_type": "markdown",
   "metadata": {},
   "source": [
    "# Heart Disease Classification\n",
    "Simo Hyttinen<br>\n",
    "Last edited: 02.02.2018<br>\n",
    "Cognitive Systems for Health Technology Applications<br>\n",
    "<a href=\"https://www.metropolia.fi/en\">Helsinki Metropolia University of Applied Sciences</a>\n"
   ]
  },
  {
   "cell_type": "markdown",
   "metadata": {},
   "source": [
    "## 1. Objectives\n",
    "The objective of this assignment is to create a program which can preprocess a dataset and then use that dataset to train a dense neural network to predict whether a person has heart disease or not, based on 13 variables. A major point of learning is to try different configurations of the neural network model, where the hyperparameters change: amount of layers, amount of neurons per layer, epoch amounts and batch sizes and overfitting prevention methods."
   ]
  },
  {
   "cell_type": "markdown",
   "metadata": {},
   "source": [
    "## 2. Required libraries"
   ]
  },
  {
   "cell_type": "markdown",
   "metadata": {},
   "source": [
    "Numpy and matplotlib are imported into the interactive namespace via %pylab. All graphs are to be drawn inline. In addition, pandas, keras, sklearn and timer will be imported."
   ]
  },
  {
   "cell_type": "code",
   "execution_count": 1,
   "metadata": {},
   "outputs": [
    {
     "name": "stdout",
     "output_type": "stream",
     "text": [
      "Populating the interactive namespace from numpy and matplotlib\n"
     ]
    }
   ],
   "source": [
    "%pylab inline"
   ]
  },
  {
   "cell_type": "code",
   "execution_count": 2,
   "metadata": {},
   "outputs": [
    {
     "name": "stderr",
     "output_type": "stream",
     "text": [
      "Using TensorFlow backend.\n"
     ]
    }
   ],
   "source": [
    "import pandas as pd\n",
    "import keras\n",
    "import sklearn as sk\n",
    "from timeit import default_timer as timer\n",
    "from sklearn import preprocessing\n",
    "from sklearn.model_selection import train_test_split\n",
    "from sklearn.utils import shuffle"
   ]
  },
  {
   "cell_type": "code",
   "execution_count": 3,
   "metadata": {},
   "outputs": [
    {
     "name": "stdout",
     "output_type": "stream",
     "text": [
      "numpy: 1.13.3\n",
      "pandas: 0.20.3\n",
      "sklearn: 0.19.1\n",
      "keras: 2.1.3\n"
     ]
    }
   ],
   "source": [
    "print('numpy:', np.__version__)\n",
    "print('pandas:', pd.__version__)\n",
    "print('sklearn:', sk.__version__)\n",
    "print('keras:', keras.__version__)"
   ]
  },
  {
   "cell_type": "markdown",
   "metadata": {},
   "source": [
    "## 3. Data description and preprocessing\n",
    "### 3.1 Importing a processed dataset\n",
    "The following function imports a preprocessed dataset and sets the column names."
   ]
  },
  {
   "cell_type": "code",
   "execution_count": 4,
   "metadata": {},
   "outputs": [],
   "source": [
    "colnames = ['age', 'sex', 'cp', 'trestbps', 'chol', 'fbs',\n",
    "                  'restecg', 'thalach', 'exang', 'oldpeak',\n",
    "                  'slope', 'ca', 'thal', 'num']\n",
    "datacols = ['age', 'sex', 'cp', 'trestbps', 'chol', 'fbs',\n",
    "                  'restecg', 'thalach', 'exang', 'oldpeak',\n",
    "                  'slope'] # List of column names with 'ca', 'thal' and 'num' omitted for later use\n",
    "def format_prep_csv(filename):\n",
    "    df_ret = pd.read_csv(filename, na_values='?')\n",
    "    df_ret.columns = colnames\n",
    "    return  df_ret\n"
   ]
  },
  {
   "cell_type": "markdown",
   "metadata": {},
   "source": [
    "### 3.2 Importing and processing a raw dataset\n",
    "This function imports a set of raw data and parses it into intelligible entries.<br><br>\n",
    "Each entry in the raw dataset is divided into 10 rows with 7-8 columns each (1st row of each entry has no 8th column for some reason). I checked the correct positions of each of the 14 values from the dataset documentation and picked the right values to pull from which row and which column. These are stored in a temporary dataframe. The entries are separated from each other by calculating the modulo 10 of the row index. Depending on the modulus, different actions are taken. From 0-8 values are stored in the temp dataframe. When the modulus is 9, it means the entry is at its end and the temp dataframe is appended to the processed dataframe."
   ]
  },
  {
   "cell_type": "code",
   "execution_count": 5,
   "metadata": {},
   "outputs": [],
   "source": [
    "def parse_raw_csv(filename):\n",
    "    testcols = [\"col1\", \"col2\", \"col3\", \"col4\", \"col5\", \"col6\", \"col7\", 'col8']\n",
    "    df_raw = pd.read_csv(filename, sep=' ', names=testcols)\n",
    "    df_ret = pd.DataFrame(index=[0], columns=colnames)\n",
    "    df_temp = pd.DataFrame(index=[0], columns=colnames)\n",
    "    \n",
    "    for i, row in df_raw.iterrows():\n",
    "        m = i % 10\n",
    "        if m == 0:\n",
    "            df_temp.iloc[0]['age'] = float(row['col3'])\n",
    "            df_temp.iloc[0]['sex'] = int(row['col4'])\n",
    "        elif m == 1:\n",
    "            df_temp.iloc[0]['cp'] = int(row['col2'])\n",
    "            df_temp.iloc[0]['trestbps'] = float(row['col3'])\n",
    "            df_temp.iloc[0]['chol'] = float(row['col5'])\n",
    "        elif m == 2:\n",
    "            df_temp.iloc[0]['fbs'] = float(row['col1'])\n",
    "            df_temp.iloc[0]['restecg'] = float(row['col4'])\n",
    "        elif m == 4:\n",
    "            df_temp.iloc[0]['thalach'] = float(row['col1'])\n",
    "            df_temp.iloc[0]['exang'] = float(row['col7'])\n",
    "        elif m == 5:\n",
    "            df_temp.iloc[0]['oldpeak'] = float(row['col1'])\n",
    "            df_temp.iloc[0]['slope'] = float(row['col2'])\n",
    "            df_temp.iloc[0]['ca'] = float(row['col5'])\n",
    "        elif m == 6:\n",
    "             df_temp.iloc[0]['thal'] = float(row['col4'])\n",
    "        elif m == 7:\n",
    "            df_temp.iloc[0]['num'] = int(row['col3'])\n",
    "        elif m == 9:\n",
    "            for ix in range(len(df_temp.columns)):\n",
    "                if df_temp.iloc[0][ix] == -9:\n",
    "                    df_temp.iloc[0][ix] = nan\n",
    "            df_ret = df_ret.append(df_temp, ignore_index=True)\n",
    "\n",
    "    df_ret.drop(df_ret.index[0], inplace=True) # Drop the initialization row.\n",
    "    return df_ret"
   ]
  },
  {
   "cell_type": "markdown",
   "metadata": {},
   "source": [
    "### 3.3 Compiling the dataset\n",
    "Here the different datasets are combined into one big dataset. The already preprocessed version of the Cleveland data is used because the raw data file is corrupted. <i>New.data</i> is not used because it seems to have a slightly different formatting compared to the other files."
   ]
  },
  {
   "cell_type": "code",
   "execution_count": 6,
   "metadata": {},
   "outputs": [
    {
     "name": "stdout",
     "output_type": "stream",
     "text": [
      "Number of entries in the dataset: 919\n"
     ]
    }
   ],
   "source": [
    "df_hu = parse_raw_csv(\"http://archive.ics.uci.edu/ml/machine-learning-databases/heart-disease/hungarian.data\")\n",
    "df_sw = parse_raw_csv(\"http://archive.ics.uci.edu/ml/machine-learning-databases/heart-disease/switzerland.data\")\n",
    "df_cl = format_prep_csv(\"http://archive.ics.uci.edu/ml/machine-learning-databases/heart-disease/processed.cleveland.data\")\n",
    "df_lbc = parse_raw_csv(\"http://archive.ics.uci.edu/ml/machine-learning-databases/heart-disease/long-beach-va.data\")\n",
    "df = pd.concat([df_hu, df_sw], ignore_index=True).append(df_cl, ignore_index=True).append(df_lbc, ignore_index=True)\n",
    "print(\"Number of entries in the dataset: \" + str(len(df.index)))"
   ]
  },
  {
   "cell_type": "markdown",
   "metadata": {},
   "source": [
    "### 3.4 Description of the data\n",
    "The contains 14 variables that describe the person in the entry:\n",
    "- Sex ('sex')\n",
    "- Age ('age')\n",
    "- Chest pain type ('cp')\n",
    "    - 1: Typical angina\n",
    "    - 2: Atypical angina\n",
    "    - 3: Non-anginal pain\n",
    "    - 4: Asymptomatic\n",
    "- Resting blood pressure (mm/Hg) on admission ('trestbps')\n",
    "- Serum cholesterol (mg/dl) ('chol')\n",
    "- Fasting blood sugar ('fbs')\n",
    "    - 1: Over 120mg/dl\n",
    "    - 0: Under 120mg/dl\n",
    "- Resting electrocardiographic results ('restecg')\n",
    "    - 0: Normal\n",
    "    - 1: ST-T wave abnormality\n",
    "    - 2: Probable or definite left ventricular hypertrophy\n",
    "- Maximum heart rate achieved ('thalach')\n",
    "- Exercise induced angina ('exang')\n",
    "    - 1: Yes\n",
    "    - 0: No\n",
    "- ST depression induced by exercise relative to rest ('oldpeak')\n",
    "- Slope of the peak exercise ST segment ('slope')\n",
    "    - 1: Upsloping\n",
    "    - 2: Flat\n",
    "    - 3: Downsloping\n",
    "- Number of major vessels colored by fluoroscopy ('ca')\n",
    "- thal (?) ('thal')\n",
    "    - 3: Normal\n",
    "    - 6: Fixed defect\n",
    "    - 7: Reversable defect\n",
    "- Diagnosis of heart disease ('num')\n",
    "    - 0: No heart disease\n",
    "    - 1+: Heart disease\n",
    "    \n",
    "Some of the values in the data are missing. Missing values, originally distinguished in the raw data with the value -9.0, have been replaced with NaN."
   ]
  },
  {
   "cell_type": "code",
   "execution_count": 7,
   "metadata": {},
   "outputs": [
    {
     "data": {
      "text/html": [
       "<div>\n",
       "<style>\n",
       "    .dataframe thead tr:only-child th {\n",
       "        text-align: right;\n",
       "    }\n",
       "\n",
       "    .dataframe thead th {\n",
       "        text-align: left;\n",
       "    }\n",
       "\n",
       "    .dataframe tbody tr th {\n",
       "        vertical-align: top;\n",
       "    }\n",
       "</style>\n",
       "<table border=\"1\" class=\"dataframe\">\n",
       "  <thead>\n",
       "    <tr style=\"text-align: right;\">\n",
       "      <th></th>\n",
       "      <th>age</th>\n",
       "      <th>sex</th>\n",
       "      <th>cp</th>\n",
       "      <th>trestbps</th>\n",
       "      <th>chol</th>\n",
       "      <th>fbs</th>\n",
       "      <th>restecg</th>\n",
       "      <th>thalach</th>\n",
       "      <th>exang</th>\n",
       "      <th>oldpeak</th>\n",
       "      <th>slope</th>\n",
       "      <th>ca</th>\n",
       "      <th>thal</th>\n",
       "      <th>num</th>\n",
       "    </tr>\n",
       "  </thead>\n",
       "  <tbody>\n",
       "    <tr>\n",
       "      <th>count</th>\n",
       "      <td>919.0</td>\n",
       "      <td>919</td>\n",
       "      <td>919</td>\n",
       "      <td>860.0</td>\n",
       "      <td>889.0</td>\n",
       "      <td>829.0</td>\n",
       "      <td>917.0</td>\n",
       "      <td>864.0</td>\n",
       "      <td>864.0</td>\n",
       "      <td>857.0</td>\n",
       "      <td>611.0</td>\n",
       "      <td>309.0</td>\n",
       "      <td>442.0</td>\n",
       "      <td>919</td>\n",
       "    </tr>\n",
       "    <tr>\n",
       "      <th>unique</th>\n",
       "      <td>50.0</td>\n",
       "      <td>2</td>\n",
       "      <td>4</td>\n",
       "      <td>61.0</td>\n",
       "      <td>217.0</td>\n",
       "      <td>2.0</td>\n",
       "      <td>3.0</td>\n",
       "      <td>119.0</td>\n",
       "      <td>2.0</td>\n",
       "      <td>53.0</td>\n",
       "      <td>4.0</td>\n",
       "      <td>5.0</td>\n",
       "      <td>7.0</td>\n",
       "      <td>5</td>\n",
       "    </tr>\n",
       "    <tr>\n",
       "      <th>top</th>\n",
       "      <td>54.0</td>\n",
       "      <td>1</td>\n",
       "      <td>4</td>\n",
       "      <td>120.0</td>\n",
       "      <td>0.0</td>\n",
       "      <td>0.0</td>\n",
       "      <td>0.0</td>\n",
       "      <td>150.0</td>\n",
       "      <td>0.0</td>\n",
       "      <td>0.0</td>\n",
       "      <td>2.0</td>\n",
       "      <td>0.0</td>\n",
       "      <td>3.0</td>\n",
       "      <td>0</td>\n",
       "    </tr>\n",
       "    <tr>\n",
       "      <th>freq</th>\n",
       "      <td>51.0</td>\n",
       "      <td>725</td>\n",
       "      <td>496</td>\n",
       "      <td>131.0</td>\n",
       "      <td>172.0</td>\n",
       "      <td>692.0</td>\n",
       "      <td>551.0</td>\n",
       "      <td>42.0</td>\n",
       "      <td>527.0</td>\n",
       "      <td>370.0</td>\n",
       "      <td>345.0</td>\n",
       "      <td>180.0</td>\n",
       "      <td>196.0</td>\n",
       "      <td>410</td>\n",
       "    </tr>\n",
       "  </tbody>\n",
       "</table>\n",
       "</div>"
      ],
      "text/plain": [
       "          age  sex   cp  trestbps   chol    fbs  restecg  thalach  exang  \\\n",
       "count   919.0  919  919     860.0  889.0  829.0    917.0    864.0  864.0   \n",
       "unique   50.0    2    4      61.0  217.0    2.0      3.0    119.0    2.0   \n",
       "top      54.0    1    4     120.0    0.0    0.0      0.0    150.0    0.0   \n",
       "freq     51.0  725  496     131.0  172.0  692.0    551.0     42.0  527.0   \n",
       "\n",
       "        oldpeak  slope     ca   thal  num  \n",
       "count     857.0  611.0  309.0  442.0  919  \n",
       "unique     53.0    4.0    5.0    7.0    5  \n",
       "top         0.0    2.0    0.0    3.0    0  \n",
       "freq      370.0  345.0  180.0  196.0  410  "
      ]
     },
     "execution_count": 7,
     "metadata": {},
     "output_type": "execute_result"
    }
   ],
   "source": [
    "# This is for exporting the combined dataframe as a CSV. I used this to view the data in Excel.\n",
    "\n",
    "#df.to_csv(\"data/combined.csv\", na_rep = \"?\")\n",
    "\n",
    "# Basic data about the dataset\n",
    "\n",
    "df.describe()"
   ]
  },
  {
   "cell_type": "markdown",
   "metadata": {},
   "source": [
    "### 3.5 Dealing with missing values\n",
    "As we can see from a snippet of 10 of the entries from the beginning of the dataset, there's quite a few missing values there."
   ]
  },
  {
   "cell_type": "code",
   "execution_count": 8,
   "metadata": {},
   "outputs": [
    {
     "data": {
      "text/html": [
       "<div>\n",
       "<style>\n",
       "    .dataframe thead tr:only-child th {\n",
       "        text-align: right;\n",
       "    }\n",
       "\n",
       "    .dataframe thead th {\n",
       "        text-align: left;\n",
       "    }\n",
       "\n",
       "    .dataframe tbody tr th {\n",
       "        vertical-align: top;\n",
       "    }\n",
       "</style>\n",
       "<table border=\"1\" class=\"dataframe\">\n",
       "  <thead>\n",
       "    <tr style=\"text-align: right;\">\n",
       "      <th></th>\n",
       "      <th>age</th>\n",
       "      <th>sex</th>\n",
       "      <th>cp</th>\n",
       "      <th>trestbps</th>\n",
       "      <th>chol</th>\n",
       "      <th>fbs</th>\n",
       "      <th>restecg</th>\n",
       "      <th>thalach</th>\n",
       "      <th>exang</th>\n",
       "      <th>oldpeak</th>\n",
       "      <th>slope</th>\n",
       "      <th>ca</th>\n",
       "      <th>thal</th>\n",
       "      <th>num</th>\n",
       "    </tr>\n",
       "  </thead>\n",
       "  <tbody>\n",
       "    <tr>\n",
       "      <th>0</th>\n",
       "      <td>40</td>\n",
       "      <td>1</td>\n",
       "      <td>2</td>\n",
       "      <td>140</td>\n",
       "      <td>289</td>\n",
       "      <td>0</td>\n",
       "      <td>0</td>\n",
       "      <td>172</td>\n",
       "      <td>0</td>\n",
       "      <td>0</td>\n",
       "      <td>NaN</td>\n",
       "      <td>NaN</td>\n",
       "      <td>NaN</td>\n",
       "      <td>0</td>\n",
       "    </tr>\n",
       "    <tr>\n",
       "      <th>1</th>\n",
       "      <td>49</td>\n",
       "      <td>0</td>\n",
       "      <td>3</td>\n",
       "      <td>160</td>\n",
       "      <td>180</td>\n",
       "      <td>0</td>\n",
       "      <td>0</td>\n",
       "      <td>156</td>\n",
       "      <td>0</td>\n",
       "      <td>1</td>\n",
       "      <td>2</td>\n",
       "      <td>NaN</td>\n",
       "      <td>NaN</td>\n",
       "      <td>1</td>\n",
       "    </tr>\n",
       "    <tr>\n",
       "      <th>2</th>\n",
       "      <td>37</td>\n",
       "      <td>1</td>\n",
       "      <td>2</td>\n",
       "      <td>130</td>\n",
       "      <td>283</td>\n",
       "      <td>0</td>\n",
       "      <td>1</td>\n",
       "      <td>98</td>\n",
       "      <td>0</td>\n",
       "      <td>0</td>\n",
       "      <td>NaN</td>\n",
       "      <td>NaN</td>\n",
       "      <td>NaN</td>\n",
       "      <td>0</td>\n",
       "    </tr>\n",
       "    <tr>\n",
       "      <th>3</th>\n",
       "      <td>48</td>\n",
       "      <td>0</td>\n",
       "      <td>4</td>\n",
       "      <td>138</td>\n",
       "      <td>214</td>\n",
       "      <td>0</td>\n",
       "      <td>0</td>\n",
       "      <td>108</td>\n",
       "      <td>1</td>\n",
       "      <td>1.5</td>\n",
       "      <td>2</td>\n",
       "      <td>NaN</td>\n",
       "      <td>NaN</td>\n",
       "      <td>3</td>\n",
       "    </tr>\n",
       "    <tr>\n",
       "      <th>4</th>\n",
       "      <td>54</td>\n",
       "      <td>1</td>\n",
       "      <td>3</td>\n",
       "      <td>150</td>\n",
       "      <td>NaN</td>\n",
       "      <td>0</td>\n",
       "      <td>0</td>\n",
       "      <td>122</td>\n",
       "      <td>0</td>\n",
       "      <td>0</td>\n",
       "      <td>NaN</td>\n",
       "      <td>NaN</td>\n",
       "      <td>NaN</td>\n",
       "      <td>0</td>\n",
       "    </tr>\n",
       "    <tr>\n",
       "      <th>5</th>\n",
       "      <td>39</td>\n",
       "      <td>1</td>\n",
       "      <td>3</td>\n",
       "      <td>120</td>\n",
       "      <td>339</td>\n",
       "      <td>0</td>\n",
       "      <td>0</td>\n",
       "      <td>170</td>\n",
       "      <td>0</td>\n",
       "      <td>0</td>\n",
       "      <td>NaN</td>\n",
       "      <td>NaN</td>\n",
       "      <td>NaN</td>\n",
       "      <td>0</td>\n",
       "    </tr>\n",
       "    <tr>\n",
       "      <th>6</th>\n",
       "      <td>45</td>\n",
       "      <td>0</td>\n",
       "      <td>2</td>\n",
       "      <td>130</td>\n",
       "      <td>237</td>\n",
       "      <td>0</td>\n",
       "      <td>0</td>\n",
       "      <td>170</td>\n",
       "      <td>0</td>\n",
       "      <td>0</td>\n",
       "      <td>NaN</td>\n",
       "      <td>NaN</td>\n",
       "      <td>NaN</td>\n",
       "      <td>0</td>\n",
       "    </tr>\n",
       "    <tr>\n",
       "      <th>7</th>\n",
       "      <td>54</td>\n",
       "      <td>1</td>\n",
       "      <td>2</td>\n",
       "      <td>110</td>\n",
       "      <td>208</td>\n",
       "      <td>0</td>\n",
       "      <td>0</td>\n",
       "      <td>142</td>\n",
       "      <td>0</td>\n",
       "      <td>0</td>\n",
       "      <td>NaN</td>\n",
       "      <td>NaN</td>\n",
       "      <td>NaN</td>\n",
       "      <td>0</td>\n",
       "    </tr>\n",
       "    <tr>\n",
       "      <th>8</th>\n",
       "      <td>37</td>\n",
       "      <td>1</td>\n",
       "      <td>4</td>\n",
       "      <td>140</td>\n",
       "      <td>207</td>\n",
       "      <td>0</td>\n",
       "      <td>0</td>\n",
       "      <td>130</td>\n",
       "      <td>1</td>\n",
       "      <td>1.5</td>\n",
       "      <td>2</td>\n",
       "      <td>NaN</td>\n",
       "      <td>NaN</td>\n",
       "      <td>1</td>\n",
       "    </tr>\n",
       "    <tr>\n",
       "      <th>9</th>\n",
       "      <td>48</td>\n",
       "      <td>0</td>\n",
       "      <td>2</td>\n",
       "      <td>120</td>\n",
       "      <td>284</td>\n",
       "      <td>0</td>\n",
       "      <td>0</td>\n",
       "      <td>120</td>\n",
       "      <td>0</td>\n",
       "      <td>0</td>\n",
       "      <td>NaN</td>\n",
       "      <td>NaN</td>\n",
       "      <td>NaN</td>\n",
       "      <td>0</td>\n",
       "    </tr>\n",
       "  </tbody>\n",
       "</table>\n",
       "</div>"
      ],
      "text/plain": [
       "  age sex cp trestbps chol fbs restecg thalach exang oldpeak slope   ca thal  \\\n",
       "0  40   1  2      140  289   0       0     172     0       0   NaN  NaN  NaN   \n",
       "1  49   0  3      160  180   0       0     156     0       1     2  NaN  NaN   \n",
       "2  37   1  2      130  283   0       1      98     0       0   NaN  NaN  NaN   \n",
       "3  48   0  4      138  214   0       0     108     1     1.5     2  NaN  NaN   \n",
       "4  54   1  3      150  NaN   0       0     122     0       0   NaN  NaN  NaN   \n",
       "5  39   1  3      120  339   0       0     170     0       0   NaN  NaN  NaN   \n",
       "6  45   0  2      130  237   0       0     170     0       0   NaN  NaN  NaN   \n",
       "7  54   1  2      110  208   0       0     142     0       0   NaN  NaN  NaN   \n",
       "8  37   1  4      140  207   0       0     130     1     1.5     2  NaN  NaN   \n",
       "9  48   0  2      120  284   0       0     120     0       0   NaN  NaN  NaN   \n",
       "\n",
       "  num  \n",
       "0   0  \n",
       "1   1  \n",
       "2   0  \n",
       "3   3  \n",
       "4   0  \n",
       "5   0  \n",
       "6   0  \n",
       "7   0  \n",
       "8   1  \n",
       "9   0  "
      ]
     },
     "execution_count": 8,
     "metadata": {},
     "output_type": "execute_result"
    }
   ],
   "source": [
    "# First 10 entries in the dataset\n",
    "\n",
    "df.head(10)"
   ]
  },
  {
   "cell_type": "code",
   "execution_count": 9,
   "metadata": {},
   "outputs": [
    {
     "data": {
      "text/plain": [
       "age           0\n",
       "sex           0\n",
       "cp            0\n",
       "trestbps     59\n",
       "chol         30\n",
       "fbs          90\n",
       "restecg       2\n",
       "thalach      55\n",
       "exang        55\n",
       "oldpeak      62\n",
       "slope       308\n",
       "ca          610\n",
       "thal        477\n",
       "num           0\n",
       "dtype: int64"
      ]
     },
     "execution_count": 9,
     "metadata": {},
     "output_type": "execute_result"
    }
   ],
   "source": [
    "# The amount of NaN entries per column\n",
    "\n",
    "df.isnull().sum()"
   ]
  },
  {
   "cell_type": "markdown",
   "metadata": {},
   "source": [
    "As we see, there are 610/919 values missing in the 'ca' column and 477/919 in the 'thal' column. The most sensible thing to do, in my opinion, is to drop those columns since they aren't very useful data with more than half of the values missing."
   ]
  },
  {
   "cell_type": "code",
   "execution_count": 10,
   "metadata": {},
   "outputs": [],
   "source": [
    "df_trimmed = df.drop(['ca', 'thal'], axis = 1)"
   ]
  },
  {
   "cell_type": "markdown",
   "metadata": {},
   "source": [
    "All missing data is replaced with the mean value of its column. An alternative dataset is also created where the rows with missing data are dropped entirely."
   ]
  },
  {
   "cell_type": "code",
   "execution_count": 11,
   "metadata": {},
   "outputs": [
    {
     "data": {
      "text/plain": [
       "age         0\n",
       "sex         0\n",
       "cp          0\n",
       "trestbps    0\n",
       "chol        0\n",
       "fbs         0\n",
       "restecg     0\n",
       "thalach     0\n",
       "exang       0\n",
       "oldpeak     0\n",
       "slope       0\n",
       "num         0\n",
       "dtype: int64"
      ]
     },
     "execution_count": 11,
     "metadata": {},
     "output_type": "execute_result"
    }
   ],
   "source": [
    "df_mean_na = df_trimmed.where(~df_trimmed.isnull(), df_trimmed.mean(), axis = 1)\n",
    "df_dropna = df_trimmed.dropna()\n",
    "\n",
    "df_mean_na.isnull().sum()"
   ]
  },
  {
   "cell_type": "markdown",
   "metadata": {},
   "source": [
    "No more missing values!\n",
    "### 3.6 Splitting the data and values\n",
    "Next, let's shuffle the data for good measure and separate the labels from the training data."
   ]
  },
  {
   "cell_type": "code",
   "execution_count": 12,
   "metadata": {},
   "outputs": [
    {
     "data": {
      "text/html": [
       "<div>\n",
       "<style>\n",
       "    .dataframe thead tr:only-child th {\n",
       "        text-align: right;\n",
       "    }\n",
       "\n",
       "    .dataframe thead th {\n",
       "        text-align: left;\n",
       "    }\n",
       "\n",
       "    .dataframe tbody tr th {\n",
       "        vertical-align: top;\n",
       "    }\n",
       "</style>\n",
       "<table border=\"1\" class=\"dataframe\">\n",
       "  <thead>\n",
       "    <tr style=\"text-align: right;\">\n",
       "      <th></th>\n",
       "      <th>age</th>\n",
       "      <th>sex</th>\n",
       "      <th>cp</th>\n",
       "      <th>trestbps</th>\n",
       "      <th>chol</th>\n",
       "      <th>fbs</th>\n",
       "      <th>restecg</th>\n",
       "      <th>thalach</th>\n",
       "      <th>exang</th>\n",
       "      <th>oldpeak</th>\n",
       "      <th>slope</th>\n",
       "      <th>num</th>\n",
       "    </tr>\n",
       "  </thead>\n",
       "  <tbody>\n",
       "    <tr>\n",
       "      <th>874</th>\n",
       "      <td>69</td>\n",
       "      <td>1</td>\n",
       "      <td>4</td>\n",
       "      <td>132.117</td>\n",
       "      <td>199.092</td>\n",
       "      <td>1</td>\n",
       "      <td>0</td>\n",
       "      <td>137.531</td>\n",
       "      <td>0.390046</td>\n",
       "      <td>0.87713</td>\n",
       "      <td>1.76596</td>\n",
       "      <td>2</td>\n",
       "    </tr>\n",
       "    <tr>\n",
       "      <th>403</th>\n",
       "      <td>65</td>\n",
       "      <td>1</td>\n",
       "      <td>4</td>\n",
       "      <td>145</td>\n",
       "      <td>0</td>\n",
       "      <td>0.165259</td>\n",
       "      <td>1</td>\n",
       "      <td>67</td>\n",
       "      <td>0</td>\n",
       "      <td>0.87713</td>\n",
       "      <td>1.76596</td>\n",
       "      <td>3</td>\n",
       "    </tr>\n",
       "    <tr>\n",
       "      <th>341</th>\n",
       "      <td>43</td>\n",
       "      <td>1</td>\n",
       "      <td>4</td>\n",
       "      <td>100</td>\n",
       "      <td>0</td>\n",
       "      <td>0.165259</td>\n",
       "      <td>0</td>\n",
       "      <td>122</td>\n",
       "      <td>0</td>\n",
       "      <td>1.5</td>\n",
       "      <td>3</td>\n",
       "      <td>3</td>\n",
       "    </tr>\n",
       "    <tr>\n",
       "      <th>2</th>\n",
       "      <td>37</td>\n",
       "      <td>1</td>\n",
       "      <td>2</td>\n",
       "      <td>130</td>\n",
       "      <td>283</td>\n",
       "      <td>0</td>\n",
       "      <td>1</td>\n",
       "      <td>98</td>\n",
       "      <td>0</td>\n",
       "      <td>0</td>\n",
       "      <td>1.76596</td>\n",
       "      <td>0</td>\n",
       "    </tr>\n",
       "    <tr>\n",
       "      <th>769</th>\n",
       "      <td>55</td>\n",
       "      <td>1</td>\n",
       "      <td>3</td>\n",
       "      <td>120</td>\n",
       "      <td>0</td>\n",
       "      <td>0</td>\n",
       "      <td>1</td>\n",
       "      <td>125</td>\n",
       "      <td>1</td>\n",
       "      <td>2.5</td>\n",
       "      <td>2</td>\n",
       "      <td>1</td>\n",
       "    </tr>\n",
       "  </tbody>\n",
       "</table>\n",
       "</div>"
      ],
      "text/plain": [
       "    age sex cp trestbps     chol       fbs restecg  thalach     exang  \\\n",
       "874  69   1  4  132.117  199.092         1       0  137.531  0.390046   \n",
       "403  65   1  4      145        0  0.165259       1       67         0   \n",
       "341  43   1  4      100        0  0.165259       0      122         0   \n",
       "2    37   1  2      130      283         0       1       98         0   \n",
       "769  55   1  3      120        0         0       1      125         1   \n",
       "\n",
       "     oldpeak    slope num  \n",
       "874  0.87713  1.76596   2  \n",
       "403  0.87713  1.76596   3  \n",
       "341      1.5        3   3  \n",
       "2          0  1.76596   0  \n",
       "769      2.5        2   1  "
      ]
     },
     "execution_count": 12,
     "metadata": {},
     "output_type": "execute_result"
    }
   ],
   "source": [
    "df_mean_na = shuffle(df_mean_na)\n",
    "df_dropna = shuffle(df_dropna)\n",
    "\n",
    "df_mean_na.head()"
   ]
  },
  {
   "cell_type": "code",
   "execution_count": 13,
   "metadata": {},
   "outputs": [],
   "source": [
    "labels = (df_mean_na['num'] > 0).values\n",
    "data = df_mean_na[datacols].values\n",
    "\n",
    "labels2 = (df_dropna['num'] > 0).values\n",
    "data2 = df_dropna[datacols].values"
   ]
  },
  {
   "cell_type": "code",
   "execution_count": 14,
   "metadata": {},
   "outputs": [
    {
     "data": {
      "text/plain": [
       "(919, 11)"
      ]
     },
     "execution_count": 14,
     "metadata": {},
     "output_type": "execute_result"
    }
   ],
   "source": [
    "data.shape"
   ]
  },
  {
   "cell_type": "markdown",
   "metadata": {},
   "source": [
    "### 3.7 Scaling and dividing the data\n",
    "Now it's time to preprocess (scale) the data. We get some int to float conversion notifications, but that's ok."
   ]
  },
  {
   "cell_type": "code",
   "execution_count": 15,
   "metadata": {},
   "outputs": [
    {
     "name": "stderr",
     "output_type": "stream",
     "text": [
      "C:\\Users\\simoh\\Anaconda3\\lib\\site-packages\\sklearn\\utils\\validation.py:475: DataConversionWarning: Data with input dtype object was converted to float64 by MinMaxScaler.\n",
      "  warnings.warn(msg, DataConversionWarning)\n"
     ]
    },
    {
     "data": {
      "text/plain": [
       "array([[ 0.83673469,  1.        ,  1.        , ...,  0.3900463 ,\n",
       "         0.39512835,  0.58865248],\n",
       "       [ 0.75510204,  1.        ,  1.        , ...,  0.        ,\n",
       "         0.39512835,  0.58865248],\n",
       "       [ 0.30612245,  1.        ,  1.        , ...,  0.        ,\n",
       "         0.46590909,  1.        ],\n",
       "       ..., \n",
       "       [ 0.30612245,  0.        ,  0.66666667, ...,  0.        ,\n",
       "         0.31818182,  0.66666667],\n",
       "       [ 0.46938776,  1.        ,  0.66666667, ...,  1.        ,\n",
       "         0.43181818,  0.66666667],\n",
       "       [ 0.40816327,  0.        ,  1.        , ...,  1.        ,\n",
       "         0.46590909,  0.66666667]])"
      ]
     },
     "execution_count": 15,
     "metadata": {},
     "output_type": "execute_result"
    }
   ],
   "source": [
    "\n",
    "min_max_scaler = preprocessing.MinMaxScaler()\n",
    "data_minmax = min_max_scaler.fit_transform(data)\n",
    "data_minmax2 = min_max_scaler.fit_transform(data2)\n",
    "data_minmax"
   ]
  },
  {
   "cell_type": "code",
   "execution_count": 28,
   "metadata": {},
   "outputs": [
    {
     "data": {
      "text/plain": [
       "array([ 0.52041927,  0.78890098,  0.7508161 ,  0.66058721,  0.33016955,\n",
       "        0.16525935,  0.30152672,  0.54599472,  0.3900463 ,  0.39512835,\n",
       "        0.58865248])"
      ]
     },
     "execution_count": 28,
     "metadata": {},
     "output_type": "execute_result"
    }
   ],
   "source": [
    "data_minmax.mean(axis=0)"
   ]
  },
  {
   "cell_type": "markdown",
   "metadata": {},
   "source": [
    "The data is then divided into <b>training</b> and <b>test sets</b>. "
   ]
  },
  {
   "cell_type": "code",
   "execution_count": 16,
   "metadata": {},
   "outputs": [
    {
     "data": {
      "text/plain": [
       "((643, 11), (276, 11), (643,), (276,))"
      ]
     },
     "execution_count": 16,
     "metadata": {},
     "output_type": "execute_result"
    }
   ],
   "source": [
    "x_train, x_test, y_train, y_test = train_test_split(\n",
    "    data_minmax, labels, test_size=0.30)\n",
    "\n",
    "x_train2, x_test2, y_train2, y_test2 = train_test_split(\n",
    "    data_minmax2, labels2, test_size=0.30)\n",
    "\n",
    "x_train.shape, x_test.shape, y_train.shape, y_test.shape"
   ]
  },
  {
   "cell_type": "markdown",
   "metadata": {},
   "source": [
    "## 4. Modeling and compilation\n",
    "Here the hyperparameters for the model are set. This is done as a function to easily reset the model between two sets of data."
   ]
  },
  {
   "cell_type": "code",
   "execution_count": 29,
   "metadata": {},
   "outputs": [],
   "source": [
    "def init_model():\n",
    "    model = []\n",
    "    model = keras.models.Sequential()\n",
    "    model.add(keras.layers.Dense(7, activation = 'relu', kernel_regularizer=keras.regularizers.l2(0.01), input_dim = 11))\n",
    "    model.add(keras.layers.Dense(7, activation = 'relu'))\n",
    "    model.add(keras.layers.Dense(1, activation = 'sigmoid'))\n",
    "\n",
    "    model.compile(loss = 'binary_crossentropy',\n",
    "                  optimizer = 'rmsprop',\n",
    "                  metrics = ['accuracy'])\n",
    "    return model"
   ]
  },
  {
   "cell_type": "markdown",
   "metadata": {},
   "source": [
    "## 5. Training and Validation\n",
    "Now it's time to set the training parameters and train the model."
   ]
  },
  {
   "cell_type": "code",
   "execution_count": 30,
   "metadata": {},
   "outputs": [
    {
     "name": "stdout",
     "output_type": "stream",
     "text": [
      "276/276 [==============================] - 0s 11us/step\n",
      "Time elapsed in fitting the model:  4.99  seconds.\n"
     ]
    }
   ],
   "source": [
    "N = 125 # Epoch amount\n",
    "Bs = 32 # Batch size\n",
    "\n",
    "model = init_model()\n",
    "\n",
    "start = timer()\n",
    "h = model.fit(x_train, y_train,\n",
    "              verbose = 0, \n",
    "              epochs = N,\n",
    "              batch_size = Bs,\n",
    "              validation_data=(x_test, y_test))\n",
    "\n",
    "end = timer()\n",
    "\n",
    "score = model.evaluate(x_test, y_test, batch_size = 128)\n",
    "print(\"Time elapsed in fitting the model: \", str(round(end-start, 3)), \" seconds.\")"
   ]
  },
  {
   "cell_type": "code",
   "execution_count": 31,
   "metadata": {},
   "outputs": [
    {
     "name": "stdout",
     "output_type": "stream",
     "text": [
      "Time elapsed in fitting the model:  3.307  seconds.\n"
     ]
    }
   ],
   "source": [
    "model = init_model()\n",
    "\n",
    "start = timer()\n",
    "h2 = model.fit(x_train2, y_train2,\n",
    "              verbose = 0, \n",
    "              epochs = N,\n",
    "              batch_size = Bs,\n",
    "              validation_data=(x_test2, y_test2))\n",
    "\n",
    "end = timer()\n",
    "print(\"Time elapsed in fitting the model: \", str(round(end-start, 3)), \" seconds.\")"
   ]
  },
  {
   "cell_type": "markdown",
   "metadata": {},
   "source": [
    "## 6. Evaluation\n",
    "We plot the training and validation history into accuracy and loss graphs and show the evaluation results."
   ]
  },
  {
   "cell_type": "code",
   "execution_count": 32,
   "metadata": {},
   "outputs": [
    {
     "name": "stdout",
     "output_type": "stream",
     "text": [
      "Data with NaN filled by mean\n"
     ]
    },
    {
     "data": {
      "image/png": "[encoded data removed]",
      "text/plain": [
       "<matplotlib.figure.Figure at 0x1e7b4c6a048>"
      ]
     },
     "metadata": {},
     "output_type": "display_data"
    },
    {
     "data": {
      "image/png": "[encoded data removed]",
      "text/plain": [
       "<matplotlib.figure.Figure at 0x1e7b416def0>"
      ]
     },
     "metadata": {},
     "output_type": "display_data"
    },
    {
     "name": "stdout",
     "output_type": "stream",
     "text": [
      "[0.43388372400532599, 0.82246376811594202]\n",
      "Data with NaN-containing rows dropped\n"
     ]
    },
    {
     "data": {
      "image/png": "[encoded data removed]",
      "text/plain": [
       "<matplotlib.figure.Figure at 0x1e7b4ec06a0>"
      ]
     },
     "metadata": {},
     "output_type": "display_data"
    },
    {
     "data": {
      "image/png": "[encoded data removed]",
      "text/plain": [
       "<matplotlib.figure.Figure at 0x1e7b1f49400>"
      ]
     },
     "metadata": {},
     "output_type": "display_data"
    },
    {
     "name": "stdout",
     "output_type": "stream",
     "text": [
      "160/160 [==============================] - 0s 50us/step\n"
     ]
    },
    {
     "data": {
      "text/plain": [
       "[0.47363848686218263, 0.83125000000000004]"
      ]
     },
     "execution_count": 32,
     "metadata": {},
     "output_type": "execute_result"
    }
   ],
   "source": [
    "\n",
    "epochs = range(1, N + 1)\n",
    "acc = h.history['acc']\n",
    "val_acc = h.history['val_acc']\n",
    "loss = h.history['loss']\n",
    "val_loss = h.history['val_loss']\n",
    "\n",
    "acc2 = h2.history['acc']\n",
    "val_acc2 = h2.history['val_acc']\n",
    "loss2 = h2.history['loss']\n",
    "val_loss2 = h2.history['val_loss']\n",
    "\n",
    "# Mean-filled data\n",
    "print(\"Data with NaN filled by mean\")\n",
    "\n",
    "# Accuracy plot\n",
    "plt.figure(figsize = (20, 5))\n",
    "plt.plot(epochs, acc, 'bo', label='Training')\n",
    "plt.plot(epochs, val_acc, 'b', label = 'Validation')\n",
    "plt.xlabel('Epochs')\n",
    "plt.ylabel('Accuracy')\n",
    "plt.ylim([0, 1])\n",
    "plt.grid()\n",
    "plt.legend()\n",
    "plt.show()\n",
    "\n",
    "# Loss plot\n",
    "plt.figure(figsize = (20, 5))\n",
    "plt.plot(epochs, loss, 'bo', label='Training')\n",
    "plt.plot(epochs, val_loss, 'b', label = 'Validation')\n",
    "plt.xlabel('Epochs')\n",
    "plt.ylabel('Loss')\n",
    "plt.ylim([0.2, 0.8])\n",
    "plt.grid()\n",
    "plt.legend()\n",
    "plt.show()\n",
    "\n",
    "print(score)\n",
    "\n",
    "# NaN-dropped data\n",
    "print(\"Data with NaN-containing rows dropped\")\n",
    "\n",
    "# Accuracy plot\n",
    "plt.figure(figsize = (20, 5))\n",
    "plt.plot(epochs, acc2, 'bo', label='Training')\n",
    "plt.plot(epochs, val_acc2, 'b', label = 'Validation')\n",
    "plt.xlabel('Epochs')\n",
    "plt.ylabel('Accuracy')\n",
    "plt.ylim([0, 1])\n",
    "plt.grid()\n",
    "plt.legend()\n",
    "plt.show()\n",
    "\n",
    "# Loss plot\n",
    "plt.figure(figsize = (20, 5))\n",
    "plt.plot(epochs, loss2, 'bo', label='Training')\n",
    "plt.plot(epochs, val_loss2, 'b', label = 'Validation')\n",
    "plt.xlabel('Epochs')\n",
    "plt.ylabel('Loss')\n",
    "plt.ylim([0.2, 0.8])\n",
    "plt.grid()\n",
    "plt.legend()\n",
    "plt.show()\n",
    "\n",
    "\n",
    "score2 = model.evaluate(x_test2, y_test2, batch_size = 128)\n",
    "score2"
   ]
  },
  {
   "cell_type": "markdown",
   "metadata": {},
   "source": [
    "## 7. Results and Discussion"
   ]
  },
  {
   "cell_type": "markdown",
   "metadata": {},
   "source": [
    "I tweaked a bit of this and that in the hyperparameters but I still didn't get much above 80% accuracy. In the case of the dataset in which the rows with missing values were dropped, accuracy is about the same, despite the smaller sample size. I didn't get a lot of improvement in the accuracy even though I experimented with the following:\n",
    "- Varying the amount of epochs\n",
    "- Varying the batch size\n",
    "- Varying the amount of layers\n",
    "- Varying the amount of neurons in layers\n",
    "- Adding a regularizer to counteract overfitting while the amount of epochs increased"
   ]
  },
  {
   "cell_type": "markdown",
   "metadata": {},
   "source": [
    "Some improvement was made by adding more epochs and adding the regularizer, but final accuracy is still around 80-83%.<br><br>\n",
    "<b>Later addition:</b><br>\n",
    "After restarting the kernel and running all cells, my validation accuracy numbers started getting higher than the training accuracy. I'm not quite sure where this comes from. I don't think I changed anything in the code, just cleanup of comments and markdown cells."
   ]
  },
  {
   "cell_type": "markdown",
   "metadata": {},
   "source": [
    "## 8. Conclusions"
   ]
  },
  {
   "cell_type": "markdown",
   "metadata": {},
   "source": [
    "Getting the accuracy to increase while keeping overfitting to a minimum, and doing all this with an effective and low-cost amount of computing time, is challenging. I suspect that in this case the small sample size is to blame for the somewhat poor accuracy. Ideally this kind of project would have sample sizes of millions, with all entries having all the data that correlates with the end result. By omitting the angiographic data columns in this case, we are omitting data that, if present, could prove to be a helpful addition to the set and could help with improving the accuracy. With that many missing values rendering the data practically unusable, we can't know for sure.<br><br>\n",
    "\n",
    "Dropping all the rows from the dataset (where the angiographic columns were already removed) decreased the sample size further, but this proved to have a similar effect on accuracy as filling in the missing data with the mean value of the column."
   ]
  }
 ],
 "metadata": {
  "kernelspec": {
   "display_name": "Python 3",
   "language": "python",
   "name": "python3"
  },
  "language_info": {
   "codemirror_mode": {
    "name": "ipython",
    "version": 3
   },
   "file_extension": ".py",
   "mimetype": "text/x-python",
   "name": "python",
   "nbconvert_exporter": "python",
   "pygments_lexer": "ipython3",
   "version": "3.6.4"
  }
 },
 "nbformat": 4,
 "nbformat_minor": 2
}
