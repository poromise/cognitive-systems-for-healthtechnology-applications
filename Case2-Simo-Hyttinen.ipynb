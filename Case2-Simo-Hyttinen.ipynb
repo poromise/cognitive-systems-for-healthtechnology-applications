{
 "cells": [
  {
   "cell_type": "markdown",
   "metadata": {},
   "source": [
    "# Diabetic retinopathy analysis\n",
    "Simo Hyttinen<br>\n",
    "Last edited: 25.02.2018<br>\n",
    "Cognitive Systems for Health Technology Applications<br>\n",
    "<a href=\"https://www.metropolia.fi/en\">Helsinki Metropolia University of Applied Sciences</a>\n"
   ]
  },
  {
   "cell_type": "markdown",
   "metadata": {},
   "source": [
    "## 1. Objectives"
   ]
  },
  {
   "cell_type": "markdown",
   "metadata": {},
   "source": [
    "The point of this assignment is to import medical image data and to create a convolutional neural network to detect diabetic retinopathy."
   ]
  },
  {
   "cell_type": "markdown",
   "metadata": {},
   "source": [
    "## 2. Required libraries"
   ]
  },
  {
   "cell_type": "code",
   "execution_count": 1,
   "metadata": {},
   "outputs": [
    {
     "name": "stdout",
     "output_type": "stream",
     "text": [
      "Populating the interactive namespace from numpy and matplotlib\n"
     ]
    }
   ],
   "source": [
    "%pylab inline"
   ]
  },
  {
   "cell_type": "code",
   "execution_count": 2,
   "metadata": {},
   "outputs": [
    {
     "name": "stderr",
     "output_type": "stream",
     "text": [
      "Using TensorFlow backend.\n"
     ]
    }
   ],
   "source": [
    "import pandas as pd\n",
    "import keras\n",
    "import imageio as im\n",
    "from keras.preprocessing.image import ImageDataGenerator\n",
    "import time"
   ]
  },
  {
   "cell_type": "code",
   "execution_count": 3,
   "metadata": {},
   "outputs": [],
   "source": [
    "# This cell is to be run only when the dataset is not in local storage\n",
    "from urllib.request import urlretrieve\n",
    "url = r\"https://github.com/Nomikxyz/retinopathy-dataset/archive/master.zip\"\n",
    "dst = 'master.zip'\n",
    "urlretrieve(url, dst)\n",
    "from zipfile import ZipFile\n",
    "zip_ref = ZipFile('master.zip', 'r')\n",
    "zip_ref.extractall()\n",
    "zip_ref.close()"
   ]
  },
  {
   "cell_type": "code",
   "execution_count": 4,
   "metadata": {
    "scrolled": true
   },
   "outputs": [
    {
     "data": {
      "text/plain": [
       "['nosymptoms', 'README.md', 'symptoms']"
      ]
     },
     "execution_count": 4,
     "metadata": {},
     "output_type": "execute_result"
    }
   ],
   "source": [
    "# This cell shows you if the dataset is in local storage\n",
    "import os\n",
    "os.listdir('retinopathy-dataset-master')"
   ]
  },
  {
   "cell_type": "markdown",
   "metadata": {},
   "source": [
    "I manually separated 150 images to be a validation data set, 100 from nosymptoms and 50 from symptoms folders, into a folder called retinopathy-validation/"
   ]
  },
  {
   "cell_type": "markdown",
   "metadata": {},
   "source": [
    "## 3. Data description and preprocessing"
   ]
  },
  {
   "cell_type": "code",
   "execution_count": 5,
   "metadata": {},
   "outputs": [],
   "source": [
    "img_width, img_height = 512, 512\n",
    "input_width, input_height = 256, 256\n",
    "train_data_dir = 'retinopathy-dataset-master/'\n",
    "val_data_dir = 'retinopathy-validation/'"
   ]
  },
  {
   "cell_type": "markdown",
   "metadata": {},
   "source": [
    "## 4. Modeling and compilation"
   ]
  },
  {
   "cell_type": "code",
   "execution_count": 6,
   "metadata": {},
   "outputs": [
    {
     "name": "stdout",
     "output_type": "stream",
     "text": [
      "_________________________________________________________________\n",
      "Layer (type)                 Output Shape              Param #   \n",
      "=================================================================\n",
      "conv2d_1 (Conv2D)            (None, 254, 254, 16)      448       \n",
      "_________________________________________________________________\n",
      "conv2d_2 (Conv2D)            (None, 252, 252, 16)      2320      \n",
      "_________________________________________________________________\n",
      "max_pooling2d_1 (MaxPooling2 (None, 126, 126, 16)      0         \n",
      "_________________________________________________________________\n",
      "dropout_1 (Dropout)          (None, 126, 126, 16)      0         \n",
      "_________________________________________________________________\n",
      "conv2d_3 (Conv2D)            (None, 124, 124, 32)      4640      \n",
      "_________________________________________________________________\n",
      "max_pooling2d_2 (MaxPooling2 (None, 62, 62, 32)        0         \n",
      "_________________________________________________________________\n",
      "conv2d_4 (Conv2D)            (None, 60, 60, 32)        9248      \n",
      "_________________________________________________________________\n",
      "max_pooling2d_3 (MaxPooling2 (None, 30, 30, 32)        0         \n",
      "_________________________________________________________________\n",
      "dropout_2 (Dropout)          (None, 30, 30, 32)        0         \n",
      "_________________________________________________________________\n",
      "flatten_1 (Flatten)          (None, 28800)             0         \n",
      "_________________________________________________________________\n",
      "dense_1 (Dense)              (None, 32)                921632    \n",
      "_________________________________________________________________\n",
      "dense_2 (Dense)              (None, 16)                528       \n",
      "_________________________________________________________________\n",
      "dense_3 (Dense)              (None, 1)                 17        \n",
      "=================================================================\n",
      "Total params: 938,833\n",
      "Trainable params: 938,833\n",
      "Non-trainable params: 0\n",
      "_________________________________________________________________\n"
     ]
    }
   ],
   "source": [
    "model = keras.models.Sequential()\n",
    "model.add(keras.layers.Conv2D(16, (3, 3), input_shape=(input_width, input_height, 3), activation=\"relu\"))\n",
    "model.add(keras.layers.Conv2D(16, (3, 3), activation=\"relu\"))\n",
    "model.add(keras.layers.MaxPooling2D((2, 2)))\n",
    "model.add(keras.layers.Dropout(0.15))\n",
    "model.add(keras.layers.Conv2D(32, (3, 3), activation=\"relu\"))\n",
    "model.add(keras.layers.MaxPooling2D((2, 2)))\n",
    "model.add(keras.layers.Conv2D(32, (3, 3), activation=\"relu\"))\n",
    "model.add(keras.layers.MaxPooling2D((2, 2)))\n",
    "model.add(keras.layers.Dropout(0.15))\n",
    "model.add(keras.layers.Flatten())\n",
    "model.add(keras.layers.Dense(32, activation=\"relu\"))\n",
    "model.add(keras.layers.Dense(16, activation=\"relu\"))\n",
    "model.add(keras.layers.Dense(1, activation = \"sigmoid\"))\n",
    "\n",
    "\n",
    "model.compile(loss = 'binary_crossentropy',\n",
    "              optimizer = 'rmsprop',\n",
    "              metrics = ['accuracy'])\n",
    "\n",
    "model.summary()"
   ]
  },
  {
   "cell_type": "markdown",
   "metadata": {},
   "source": [
    "## 5. Training and Validation\n"
   ]
  },
  {
   "cell_type": "code",
   "execution_count": 10,
   "metadata": {},
   "outputs": [
    {
     "name": "stdout",
     "output_type": "stream",
     "text": [
      "Found 1913 images belonging to 2 classes.\n",
      "Found 150 images belonging to 2 classes.\n",
      "Epoch 1/15\n",
      "120/120 [==============================] - 519s 4s/step - loss: 0.5525 - acc: 0.7222 - val_loss: 0.7322 - val_acc: 0.4200\n",
      "Epoch 2/15\n",
      "120/120 [==============================] - 515s 4s/step - loss: 0.4990 - acc: 0.7647 - val_loss: 0.7571 - val_acc: 0.4933\n",
      "Epoch 3/15\n",
      "120/120 [==============================] - 515s 4s/step - loss: 0.4758 - acc: 0.7745 - val_loss: 0.9420 - val_acc: 0.4267\n",
      "Epoch 4/15\n",
      "120/120 [==============================] - 510s 4s/step - loss: 0.4423 - acc: 0.8047 - val_loss: 1.0368 - val_acc: 0.5133\n",
      "Epoch 5/15\n",
      "120/120 [==============================] - 519s 4s/step - loss: 0.4429 - acc: 0.7970 - val_loss: 0.7591 - val_acc: 0.4933\n",
      "Epoch 6/15\n",
      "120/120 [==============================] - 540s 4s/step - loss: 0.4288 - acc: 0.8014 - val_loss: 0.7640 - val_acc: 0.4933\n",
      "Epoch 7/15\n",
      "120/120 [==============================] - 526s 4s/step - loss: 0.4282 - acc: 0.8064 - val_loss: 0.7728 - val_acc: 0.4933\n",
      "Epoch 8/15\n",
      "120/120 [==============================] - 540s 5s/step - loss: 0.4052 - acc: 0.8148 - val_loss: 0.7215 - val_acc: 0.5000\n",
      "Epoch 9/15\n",
      "120/120 [==============================] - 532s 4s/step - loss: 0.4095 - acc: 0.8138 - val_loss: 1.0119 - val_acc: 0.4800\n",
      "Epoch 10/15\n",
      "120/120 [==============================] - 533s 4s/step - loss: 0.3959 - acc: 0.8189 - val_loss: 0.8352 - val_acc: 0.5000\n",
      "Epoch 11/15\n",
      "120/120 [==============================] - 520s 4s/step - loss: 0.3820 - acc: 0.8266 - val_loss: 1.1759 - val_acc: 0.4067\n",
      "Epoch 12/15\n",
      "120/120 [==============================] - 573s 5s/step - loss: 0.3791 - acc: 0.8308 - val_loss: 0.7954 - val_acc: 0.5467\n",
      "Epoch 13/15\n",
      "120/120 [==============================] - 557s 5s/step - loss: 0.3718 - acc: 0.8385 - val_loss: 0.8988 - val_acc: 0.4933\n",
      "Epoch 14/15\n",
      "120/120 [==============================] - 551s 5s/step - loss: 0.3739 - acc: 0.8330 - val_loss: 0.8786 - val_acc: 0.4733\n",
      "Epoch 15/15\n",
      "120/120 [==============================] - 536s 4s/step - loss: 0.3697 - acc: 0.8336 - val_loss: 1.3426 - val_acc: 0.4267\n"
     ]
    }
   ],
   "source": [
    "epochs = 15\n",
    "batch_size = 16\n",
    "\n",
    "train_datagen = ImageDataGenerator(rescale=1./255)\n",
    "val_datagen = ImageDataGenerator(rescale=1./255)\n",
    "\n",
    "train_generator = train_datagen.flow_from_directory(\n",
    "        train_data_dir,\n",
    "        target_size=(input_width, input_height),\n",
    "        batch_size=batch_size,\n",
    "        class_mode='binary')\n",
    "\n",
    "val_generator = val_datagen.flow_from_directory(\n",
    "        val_data_dir,\n",
    "        target_size=(input_width, input_height),\n",
    "        batch_size=batch_size,\n",
    "        class_mode='binary')\n",
    "\n",
    "t1 = time.time()\n",
    "history = model.fit_generator(\n",
    "        train_generator,\n",
    "        steps_per_epoch = 1913 // batch_size + 1,\n",
    "        validation_data=val_generator,\n",
    "        validation_steps=150 // batch_size + 1,\n",
    "        epochs = epochs)\n",
    "\n",
    "t2 = time.time()\n",
    "model.save('Case2model.h5')"
   ]
  },
  {
   "cell_type": "markdown",
   "metadata": {},
   "source": [
    "I ran this on the IBM DSE server to cut back on time spent training the network. I left it to run while I went to work and when I came back the notebook kernel had stopped and I hadn't saved the model, so I restarted the kernel and reran the code and made sure to save the model and tried for a couple of hours to find out how to download the file to my PC or even send it via email or FTP but nothing I tried worked. When I got back to work on it in the morning, the files were wiped off the server. <br><br>\n",
    "Later I just did it on my own PC, which saved me a lot of trouble and wasn't significantly slower. "
   ]
  },
  {
   "cell_type": "markdown",
   "metadata": {},
   "source": [
    "## 6. Evaluation"
   ]
  },
  {
   "cell_type": "code",
   "execution_count": null,
   "metadata": {},
   "outputs": [],
   "source": []
  },
  {
   "cell_type": "markdown",
   "metadata": {},
   "source": [
    "## 7. Results and Discussion"
   ]
  },
  {
   "cell_type": "code",
   "execution_count": null,
   "metadata": {},
   "outputs": [],
   "source": []
  },
  {
   "cell_type": "markdown",
   "metadata": {},
   "source": [
    "## 8. Conclusions"
   ]
  },
  {
   "cell_type": "code",
   "execution_count": null,
   "metadata": {},
   "outputs": [],
   "source": []
  }
 ],
 "metadata": {
  "kernelspec": {
   "display_name": "Python 3",
   "language": "python",
   "name": "python3"
  },
  "language_info": {
   "codemirror_mode": {
    "name": "ipython",
    "version": 3
   },
   "file_extension": ".py",
   "mimetype": "text/x-python",
   "name": "python",
   "nbconvert_exporter": "python",
   "pygments_lexer": "ipython3",
   "version": "3.6.4"
  }
 },
 "nbformat": 4,
 "nbformat_minor": 2
}
